{
  "nbformat": 4,
  "nbformat_minor": 0,
  "metadata": {
    "colab": {
      "name": "CombineFlight-WeatherData.ipynb",
      "provenance": [],
      "collapsed_sections": []
    },
    "kernelspec": {
      "name": "python3",
      "display_name": "Python 3"
    }
  },
  "cells": [
    {
      "cell_type": "code",
      "metadata": {
        "id": "BYNlbp71M7NA",
        "colab_type": "code",
        "outputId": "31fc7cf5-b3b4-42bd-b14f-95a61fee7b42",
        "colab": {
          "base_uri": "https://localhost:8080/",
          "height": 34
        }
      },
      "source": [
        "import pandas as pd\n",
        "import json\n",
        "#Garbage Collector\n",
        "import gc\n",
        "import pickle\n",
        "\n",
        "from google.colab import drive\n",
        "\n",
        "drive.mount('/content/gdrive')\n"
      ],
      "execution_count": 67,
      "outputs": [
        {
          "output_type": "stream",
          "text": [
            "Drive already mounted at /content/gdrive; to attempt to forcibly remount, call drive.mount(\"/content/gdrive\", force_remount=True).\n"
          ],
          "name": "stdout"
        }
      ]
    },
    {
      "cell_type": "code",
      "metadata": {
        "id": "ny5j9wt_NJRQ",
        "colab_type": "code",
        "colab": {}
      },
      "source": [
        "flightDataPath = 'gdrive/My Drive/FlightDelayPrediction/FlightData/'\n",
        "weatherDataPath = 'gdrive/My Drive/FlightDelayPrediction/WeatherData/'\n",
        "valid_airports = ('ATL','CLT','DEN','DFW','EWR','IAH','JFK','LAS','LAX','MCO','MIA','ORD','PHX','SEA','SFO')\n",
        "years=['2016','2017']\n",
        "\n",
        "\n",
        "master_df = pd.DataFrame()"
      ],
      "execution_count": 0,
      "outputs": []
    },
    {
      "cell_type": "markdown",
      "metadata": {
        "id": "GAEGhBF1izUo",
        "colab_type": "text"
      },
      "source": [
        "# Generating Weather DataFrame\n",
        "\n",
        "the corresponding airport id like 'JFK' has been appended to the weather data for each airport for each month in order to make the join between flight data and weather data easier. The same weather dataframe has been **saved as a pickle file** inorder to save computation during future runs of the program"
      ]
    },
    {
      "cell_type": "code",
      "metadata": {
        "id": "kDJ-aU02RC2_",
        "colab_type": "code",
        "colab": {}
      },
      "source": [
        "weather_df = pd.DataFrame()\n",
        "\n",
        "f = None\n",
        "jsonOb = None\n",
        "\n",
        "#Checks to see if previously generated pickle file is present, else generate new weather dictionary\n",
        "try:\n",
        "  pkl_file = open(weatherDataPath+'WeatherData.pkl','rb')\n",
        "  weather_df = pickle.load(pkl_file)\n",
        "  pkl_file.close()\n",
        "\n",
        "except FileNotFoundError:\n",
        "  pkl_file = open(weatherDataPath+'WeatherData.pkl','wb')\n",
        "  i=False\n",
        "  print('Computing!')\n",
        "\n",
        "  for airport in valid_airports:\n",
        "    for year in years:\n",
        "      for month in range(1,12+1):\n",
        "        f = open(weatherDataPath + airport + '/' + year + '-' + str(month)+'.json')\n",
        "        jsonOb = json.load(f)\n",
        "        temp_df = pd.DataFrame(jsonOb['data']['weather'])\n",
        "        airportList = [airport for i in range(temp_df.shape[0])]\n",
        "        temp_df['Airport']=airportList\n",
        "\n",
        "        if i:\n",
        "          weather_df = pd.concat([weather_df,temp_df],ignore_index=True)\n",
        "        else:\n",
        "          weather_df = temp_df\n",
        "        i = True\n",
        "  pickle.dump(weather_df,pkl_file)\n",
        "  pkl_file.close()\n",
        "        \n",
        "    \n"
      ],
      "execution_count": 0,
      "outputs": []
    },
    {
      "cell_type": "markdown",
      "metadata": {
        "id": "8fUtcNRejWzo",
        "colab_type": "text"
      },
      "source": [
        "| Year | Is Leap Year | No. days | No.Airports | Subtotal[No.days * No.Airports]|\n",
        "|------|--------------|----------|-------------|----------|\n",
        "|2016  | Yes | 366 | 15 | 5490|\n",
        "|2017  | No | 365 |15 | 5475 |\n",
        "||||Total|10956 entries|"
      ]
    },
    {
      "cell_type": "code",
      "metadata": {
        "id": "-CXNNV2bWdFq",
        "colab_type": "code",
        "outputId": "b2be4145-fd1c-4b02-eaee-d04fc19bfb84",
        "colab": {
          "base_uri": "https://localhost:8080/",
          "height": 34
        }
      },
      "source": [
        "weather_df.shape"
      ],
      "execution_count": 70,
      "outputs": [
        {
          "output_type": "execute_result",
          "data": {
            "text/plain": [
              "(10965, 11)"
            ]
          },
          "metadata": {
            "tags": []
          },
          "execution_count": 70
        }
      ]
    },
    {
      "cell_type": "markdown",
      "metadata": {
        "id": "Ll5AAelylLXX",
        "colab_type": "text"
      },
      "source": [
        "# Joining Flight Data of All Flights with the weather data of the departure airport of the day"
      ]
    },
    {
      "cell_type": "code",
      "metadata": {
        "id": "pzlbiJFTiZqk",
        "colab_type": "code",
        "colab": {
          "base_uri": "https://localhost:8080/",
          "height": 34
        },
        "outputId": "c0261b82-f374-49d5-bf17-f60320d16e5c"
      },
      "source": [
        "try:\n",
        "  joined_pkl = open(flightDataPath + 'JoinedData.pkl','rb')\n",
        "  print('Loaded from File!')\n",
        "  joined_df = pickle.load(joined_pkl)\n",
        "  joined_pkl.close()\n",
        "\n",
        "except FileNotFoundError:    \n",
        "  print('Generating File!')\n",
        "  joined_df = pd.DataFrame()\n",
        "  temp_df = pd.DataFrame()\n",
        "\n",
        "  i=False\n",
        "\n",
        "  for year in years:\n",
        "    for months in range(1,12+1):\n",
        "      temp_df = pd.read_csv(flightDataPath + year +'/' + str(months) + '.csv',low_memory=False)\n",
        "      temp_df = pd.merge(temp_df,weather_df,left_on=['FlightDate','Origin'],right_on=['date','Airport'])\n",
        "      if i:\n",
        "        joined_df = pd.concat([joined_df,temp_df],ignore_index=True)\n",
        "      else:\n",
        "        joined_df = temp_df\n",
        "      i=True\n",
        "  \n",
        "  joined_pkl = open(flightDataPath + 'JoinedData.pkl','wb')\n",
        "  pickle.dump(joined_df,joined_pkl)\n",
        "  joined_pkl.close()"
      ],
      "execution_count": 71,
      "outputs": [
        {
          "output_type": "stream",
          "text": [
            "Loaded from File!\n"
          ],
          "name": "stdout"
        }
      ]
    },
    {
      "cell_type": "code",
      "metadata": {
        "id": "xlcUA8fYlrvk",
        "colab_type": "code",
        "colab": {
          "base_uri": "https://localhost:8080/",
          "height": 34
        },
        "outputId": "8b0ce084-815e-4f20-f989-c683a4b82aaf"
      },
      "source": [
        "joined_df.shape"
      ],
      "execution_count": 72,
      "outputs": [
        {
          "output_type": "execute_result",
          "data": {
            "text/plain": [
              "(1877296, 122)"
            ]
          },
          "metadata": {
            "tags": []
          },
          "execution_count": 72
        }
      ]
    },
    {
      "cell_type": "code",
      "metadata": {
        "id": "pHCSLWRTnUvk",
        "colab_type": "code",
        "colab": {
          "base_uri": "https://localhost:8080/",
          "height": 225
        },
        "outputId": "4604b5a1-f73f-4dbb-e7fa-30595ca8aaa6"
      },
      "source": [
        "joined_df.iloc[12845]"
      ],
      "execution_count": 74,
      "outputs": [
        {
          "output_type": "execute_result",
          "data": {
            "text/plain": [
              "Unnamed: 0                                                  72550\n",
              "Year                                                         2016\n",
              "Quarter                                                         1\n",
              "Month                                                           1\n",
              "DayofMonth                                                     31\n",
              "                                      ...                        \n",
              "totalSnow_cm                                                  0.0\n",
              "date                                                   2016-01-31\n",
              "astronomy       [{'moon_phase': 'Waning Gibbous', 'moonrise': ...\n",
              "uvIndex                                                         0\n",
              "Airport                                                       PHX\n",
              "Name: 12845, Length: 122, dtype: object"
            ]
          },
          "metadata": {
            "tags": []
          },
          "execution_count": 74
        }
      ]
    },
    {
      "cell_type": "code",
      "metadata": {
        "id": "q3GqXT-XpZWN",
        "colab_type": "code",
        "colab": {
          "base_uri": "https://localhost:8080/",
          "height": 34
        },
        "outputId": "d30acbc1-36f9-47b7-d005-27c196160b20"
      },
      "source": [
        ""
      ],
      "execution_count": 77,
      "outputs": [
        {
          "output_type": "stream",
          "text": [
            "\u001b[H\u001b[2J"
          ],
          "name": "stdout"
        }
      ]
    },
    {
      "cell_type": "code",
      "metadata": {
        "id": "5M0YkX-03N8T",
        "colab_type": "code",
        "colab": {}
      },
      "source": [
        ""
      ],
      "execution_count": 0,
      "outputs": []
    }
  ]
}