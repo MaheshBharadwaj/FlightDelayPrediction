{
 "cells": [
  {
   "cell_type": "code",
   "execution_count": 1,
   "metadata": {},
   "outputs": [],
   "source": [
    "import numpy as np\n",
    "import pandas as pd\n",
    "import pickle\n"
   ]
  },
  {
   "cell_type": "code",
   "execution_count": 2,
   "metadata": {},
   "outputs": [],
   "source": [
    "import xgboost as xgb\n",
    "from sklearn.ensemble import RandomForestClassifier\n",
    "from sklearn.metrics import *\n",
    "from sklearn.preprocessing import LabelEncoder"
   ]
  },
  {
   "cell_type": "code",
   "execution_count": 3,
   "metadata": {},
   "outputs": [],
   "source": [
    "try:\n",
    "    with open('./TrainedModels/RandomForestClassifier.pkl','rb') as rfc_file:\n",
    "        classifier = pickle.load(rfc_file)\n",
    "    with open('./TrainedModels/ExtraTreeRegressor.pkl','rb') as xgb_file:\n",
    "        regressor = pickle.load(xgb_file)\n",
    "    with open('./JoinedData.pkl','rb') as data_file:\n",
    "        df = pickle.load(data_file)\n",
    "        df.dropna(how='any',inplace=True)\n",
    "        df.drop(columns=['FlightDate','date','ArrTime','ArrDel15','CRSArrTime','NearestDepTime'],inplace=True)\n",
    "        le = LabelEncoder()\n",
    "        df['Origin'] = le.fit_transform(df['Origin'])\n",
    "        df['Dest']  = le.fit_transform(df['Dest'])\n",
    "        df = df.apply(pd.to_numeric)\n",
    "\n",
    "except FileNotFoundError:\n",
    "    print('Models Not saved!')"
   ]
  },
  {
   "cell_type": "code",
   "execution_count": 4,
   "metadata": {},
   "outputs": [],
   "source": [
    "input_to_classifier = df.iloc[:,df.columns != 'ArrDelayMinutes']\n"
   ]
  },
  {
   "cell_type": "code",
   "execution_count": 5,
   "metadata": {},
   "outputs": [],
   "source": [
    "delayed = classifier.predict(input_to_classifier)"
   ]
  },
  {
   "cell_type": "code",
   "execution_count": 6,
   "metadata": {},
   "outputs": [],
   "source": [
    "delayed_filter = pd.Series(list(map(bool,delayed)))\n"
   ]
  },
  {
   "cell_type": "code",
   "execution_count": 7,
   "metadata": {},
   "outputs": [],
   "source": [
    "delayed_flights = df.where(delayed_filter)\n",
    "delayed_flights.dropna(how='all',inplace=True)"
   ]
  },
  {
   "cell_type": "code",
   "execution_count": 8,
   "metadata": {},
   "outputs": [],
   "source": [
    "actual_delay = delayed_flights.iloc[:,df.columns == 'ArrDelayMinutes']\n",
    "input_to_regressor = delayed_flights.iloc[:,df.columns != 'ArrDelayMinutes']"
   ]
  },
  {
   "cell_type": "code",
   "execution_count": 9,
   "metadata": {},
   "outputs": [],
   "source": [
    "predicted_delay = regressor.predict(input_to_regressor)"
   ]
  },
  {
   "cell_type": "code",
   "execution_count": 10,
   "metadata": {},
   "outputs": [
    {
     "name": "stdout",
     "output_type": "stream",
     "text": [
      "Mean Squared Error is 116.23107529155143\n"
     ]
    }
   ],
   "source": [
    "print('Mean Squared Error is',mean_squared_error(y_pred=predicted_delay,y_true=actual_delay))"
   ]
  },
  {
   "cell_type": "code",
   "execution_count": 11,
   "metadata": {},
   "outputs": [
    {
     "name": "stdout",
     "output_type": "stream",
     "text": [
      "R^2 Score is 0.9373494865357271\n"
     ]
    }
   ],
   "source": [
    "print('R^2 Score is',r2_score(actual_delay,predicted_delay))"
   ]
  },
  {
   "cell_type": "code",
   "execution_count": 12,
   "metadata": {},
   "outputs": [
    {
     "name": "stdout",
     "output_type": "stream",
     "text": [
      "Mean Absolute Error is 7.928008682582067\n"
     ]
    }
   ],
   "source": [
    "print('Mean Absolute Error is',mean_absolute_error(actual_delay,predicted_delay))"
   ]
  },
  {
   "cell_type": "code",
   "execution_count": 13,
   "metadata": {},
   "outputs": [],
   "source": [
    "import matplotlib \n",
    "import matplotlib.pyplot as plt"
   ]
  },
  {
   "cell_type": "code",
   "execution_count": 14,
   "metadata": {},
   "outputs": [
    {
     "data": {
      "image/png": "[encoded data removed]",
      "text/plain": [
       "<Figure size 720x504 with 1 Axes>"
      ]
     },
     "metadata": {
      "needs_background": "light"
     },
     "output_type": "display_data"
    }
   ],
   "source": [
    "fig,ax = plt.subplots(figsize=(10,7))\n",
    "ax.scatter(y=actual_delay[300:350],x=[i for i in range(50)],label='Actual Delay',c='r')\n",
    "ax.scatter(y=predicted_delay[300:350],x=[i for i in range(50)],label='Predicted Delay',c='g')\n",
    "ax.set_xlabel('Records',fontsize=15)\n",
    "ax.set_ylabel('Delay in Minutes',fontsize=15)\n",
    "ax.set_title('Regression Plot',fontsize=20)\n",
    "ax.legend(loc='upper right')\n",
    "plt.savefig('./Images/PiplelinedModelRegressor.png')\n",
    "plt.show()"
   ]
  },
  {
   "cell_type": "code",
   "execution_count": null,
   "metadata": {},
   "outputs": [],
   "source": []
  }
 ],
 "metadata": {
  "kernelspec": {
   "display_name": "Python 3.7.6 64-bit",
   "language": "python",
   "name": "python37664bit9e154a0c1e604011a7def91e627778a1"
  },
  "language_info": {
   "codemirror_mode": {
    "name": "ipython",
    "version": 3
   },
   "file_extension": ".py",
   "mimetype": "text/x-python",
   "name": "python",
   "nbconvert_exporter": "python",
   "pygments_lexer": "ipython3",
   "version": "3.7.6"
  }
 },
 "nbformat": 4,
 "nbformat_minor": 2
}
