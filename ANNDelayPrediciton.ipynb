{
  "nbformat": 4,
  "nbformat_minor": 0,
  "metadata": {
    "colab": {
      "name": "ANNDelayPrediciton.ipynb",
      "provenance": [],
      "collapsed_sections": []
    },
    "kernelspec": {
      "name": "python3",
      "display_name": "Python 3"
    }
  },
  "cells": [
    {
      "cell_type": "code",
      "metadata": {
        "id": "MD1nb67oc9wp",
        "colab_type": "code",
        "outputId": "1c7cd690-faf3-435d-d744-21084e6f2bcf",
        "colab": {
          "base_uri": "https://localhost:8080/",
          "height": 124
        }
      },
      "source": [
        "from google.colab import drive\n",
        "\n",
        "drive.mount('/content/gdrive')"
      ],
      "execution_count": 1,
      "outputs": [
        {
          "output_type": "stream",
          "text": [
            "Go to this URL in a browser: https://accounts.google.com/o/oauth2/auth?client_id=947318989803-6bn6qk8qdgf4n4g3pfee6491hc0brc4i.apps.googleusercontent.com&redirect_uri=urn%3aietf%3awg%3aoauth%3a2.0%3aoob&response_type=code&scope=email%20https%3a%2f%2fwww.googleapis.com%2fauth%2fdocs.test%20https%3a%2f%2fwww.googleapis.com%2fauth%2fdrive%20https%3a%2f%2fwww.googleapis.com%2fauth%2fdrive.photos.readonly%20https%3a%2f%2fwww.googleapis.com%2fauth%2fpeopleapi.readonly\n",
            "\n",
            "Enter your authorization code:\n",
            "··········\n",
            "Mounted at /content/gdrive\n"
          ],
          "name": "stdout"
        }
      ]
    },
    {
      "cell_type": "code",
      "metadata": {
        "id": "MxDA2LywdAxv",
        "colab_type": "code",
        "colab": {}
      },
      "source": [
        "flightDataPath = 'gdrive/My Drive/FlightDelayPrediction/FlightData/'"
      ],
      "execution_count": 0,
      "outputs": []
    },
    {
      "cell_type": "code",
      "metadata": {
        "id": "Uzkb3vjBdQsE",
        "colab_type": "code",
        "colab": {}
      },
      "source": [
        "import numpy as np\n",
        "import pandas as pd\n",
        "import matplotlib\n",
        "import matplotlib.pyplot as plt\n",
        "import pickle"
      ],
      "execution_count": 0,
      "outputs": []
    },
    {
      "cell_type": "code",
      "metadata": {
        "id": "dRclR9ARdWab",
        "colab_type": "code",
        "colab": {}
      },
      "source": [
        "from sklearn.model_selection import train_test_split\n",
        "from tensorflow.keras.models import Sequential\n",
        "from tensorflow.keras.layers import Dense,Dropout,LeakyReLU\n",
        "from tensorflow.keras.optimizers import *\n",
        "from tensorflow.keras import metrics\n"
      ],
      "execution_count": 0,
      "outputs": []
    },
    {
      "cell_type": "code",
      "metadata": {
        "id": "OsM00zM3dZBw",
        "colab_type": "code",
        "colab": {}
      },
      "source": [
        "import matplotlib\n",
        "import matplotlib.pyplot as plt"
      ],
      "execution_count": 0,
      "outputs": []
    },
    {
      "cell_type": "code",
      "metadata": {
        "id": "XENA3nVldeRQ",
        "colab_type": "code",
        "colab": {}
      },
      "source": [
        "pkl_file = open(flightDataPath + '/JoinedData.pkl','rb')\n",
        "df = pickle.load(pkl_file)\n",
        "pkl_file.close()\n",
        "df.dropna(how='any',inplace=True)\n",
        "df.drop(columns=['FlightDate','date','Origin','ArrTime','ArrDel15','CRSArrTime','NearestDepTime'],inplace=True)\n",
        "df = df[df['ArrDelayMinutes'] > 0]\n",
        "df = df.apply(pd.to_numeric)\n",
        "X = df.loc[:, df.columns != 'ArrDelayMinutes']\n",
        "y = df.loc[:, df.columns == 'ArrDelayMinutes']\n",
        "\n",
        "X_train,X_test,y_train,y_test = train_test_split(X,y,random_state=42,test_size=0.25)"
      ],
      "execution_count": 0,
      "outputs": []
    },
    {
      "cell_type": "code",
      "metadata": {
        "id": "7Yv1HyRodj7C",
        "colab_type": "code",
        "outputId": "363a8bc0-2bdb-4724-c51e-e8e89379cab3",
        "colab": {
          "base_uri": "https://localhost:8080/",
          "height": 330
        }
      },
      "source": [
        "model = Sequential()\n",
        "model.add(Dense(units = 32, input_dim = X_train.shape[1]))\n",
        "model.add(LeakyReLU(alpha=0.0005 ))\n",
        "model.add(Dense(units = 64))\n",
        "model.add(LeakyReLU(alpha=0.0005 ))\n",
        "model.add(Dense(units = 1  , activation = 'linear'))\n",
        "model.compile(loss='mean_squared_error', optimizer=Nadam(), metrics=['mean_squared_error'])\n",
        "model.summary()"
      ],
      "execution_count": 103,
      "outputs": [
        {
          "output_type": "stream",
          "text": [
            "Model: \"sequential_15\"\n",
            "_________________________________________________________________\n",
            "Layer (type)                 Output Shape              Param #   \n",
            "=================================================================\n",
            "dense_45 (Dense)             (None, 32)                672       \n",
            "_________________________________________________________________\n",
            "leaky_re_lu_27 (LeakyReLU)   (None, 32)                0         \n",
            "_________________________________________________________________\n",
            "dense_46 (Dense)             (None, 64)                2112      \n",
            "_________________________________________________________________\n",
            "leaky_re_lu_28 (LeakyReLU)   (None, 64)                0         \n",
            "_________________________________________________________________\n",
            "dense_47 (Dense)             (None, 1)                 65        \n",
            "=================================================================\n",
            "Total params: 2,849\n",
            "Trainable params: 2,849\n",
            "Non-trainable params: 0\n",
            "_________________________________________________________________\n"
          ],
          "name": "stdout"
        }
      ]
    },
    {
      "cell_type": "code",
      "metadata": {
        "id": "7fsrzxivdoq0",
        "colab_type": "code",
        "outputId": "372d0db5-4059-49ac-ae52-075825117924",
        "colab": {
          "base_uri": "https://localhost:8080/",
          "height": 729
        }
      },
      "source": [
        "h1 = model.fit(X_train,y_train,validation_data=(X_test,y_test),epochs=20,batch_size=128,verbose=2,use_multiprocessing=True)"
      ],
      "execution_count": 104,
      "outputs": [
        {
          "output_type": "stream",
          "text": [
            "Train on 525213 samples, validate on 175071 samples\n",
            "Epoch 1/20\n",
            "525213/525213 - 8s - loss: 958.8802 - mean_squared_error: 958.8804 - val_loss: 493.8347 - val_mean_squared_error: 493.8344\n",
            "Epoch 2/20\n",
            "525213/525213 - 8s - loss: 482.9914 - mean_squared_error: 482.9921 - val_loss: 433.5846 - val_mean_squared_error: 433.5849\n",
            "Epoch 3/20\n",
            "525213/525213 - 8s - loss: 438.2936 - mean_squared_error: 438.2931 - val_loss: 536.3621 - val_mean_squared_error: 536.3618\n",
            "Epoch 4/20\n",
            "525213/525213 - 8s - loss: 414.2346 - mean_squared_error: 414.2343 - val_loss: 446.2146 - val_mean_squared_error: 446.2147\n",
            "Epoch 5/20\n",
            "525213/525213 - 8s - loss: 386.6572 - mean_squared_error: 386.6568 - val_loss: 451.4636 - val_mean_squared_error: 451.4637\n",
            "Epoch 6/20\n",
            "525213/525213 - 8s - loss: 379.1997 - mean_squared_error: 379.1995 - val_loss: 366.2104 - val_mean_squared_error: 366.2103\n",
            "Epoch 7/20\n",
            "525213/525213 - 8s - loss: 373.9613 - mean_squared_error: 373.9611 - val_loss: 486.6935 - val_mean_squared_error: 486.6930\n",
            "Epoch 8/20\n",
            "525213/525213 - 8s - loss: 369.1905 - mean_squared_error: 369.1909 - val_loss: 365.4617 - val_mean_squared_error: 365.4614\n",
            "Epoch 9/20\n",
            "525213/525213 - 8s - loss: 379.6173 - mean_squared_error: 379.6181 - val_loss: 372.0557 - val_mean_squared_error: 372.0556\n",
            "Epoch 10/20\n",
            "525213/525213 - 8s - loss: 367.0610 - mean_squared_error: 367.0608 - val_loss: 442.3768 - val_mean_squared_error: 442.3766\n",
            "Epoch 11/20\n",
            "525213/525213 - 8s - loss: 368.4027 - mean_squared_error: 368.4029 - val_loss: 361.8856 - val_mean_squared_error: 361.8856\n",
            "Epoch 12/20\n",
            "525213/525213 - 8s - loss: 364.4873 - mean_squared_error: 364.4880 - val_loss: 362.8914 - val_mean_squared_error: 362.8916\n",
            "Epoch 13/20\n",
            "525213/525213 - 8s - loss: 356.8657 - mean_squared_error: 356.8658 - val_loss: 402.7921 - val_mean_squared_error: 402.7919\n",
            "Epoch 14/20\n",
            "525213/525213 - 8s - loss: 360.8551 - mean_squared_error: 360.8546 - val_loss: 356.4024 - val_mean_squared_error: 356.4024\n",
            "Epoch 15/20\n",
            "525213/525213 - 8s - loss: 354.6009 - mean_squared_error: 354.6011 - val_loss: 361.0540 - val_mean_squared_error: 361.0539\n",
            "Epoch 16/20\n",
            "525213/525213 - 8s - loss: 370.7228 - mean_squared_error: 370.7228 - val_loss: 360.1550 - val_mean_squared_error: 360.1549\n",
            "Epoch 17/20\n",
            "525213/525213 - 8s - loss: 352.1194 - mean_squared_error: 352.1197 - val_loss: 376.4953 - val_mean_squared_error: 376.4951\n",
            "Epoch 18/20\n",
            "525213/525213 - 8s - loss: 352.6406 - mean_squared_error: 352.6404 - val_loss: 359.5395 - val_mean_squared_error: 359.5394\n",
            "Epoch 19/20\n",
            "525213/525213 - 8s - loss: 355.4449 - mean_squared_error: 355.4447 - val_loss: 372.9245 - val_mean_squared_error: 372.9243\n",
            "Epoch 20/20\n",
            "525213/525213 - 8s - loss: 348.4276 - mean_squared_error: 348.4273 - val_loss: 355.7042 - val_mean_squared_error: 355.7043\n"
          ],
          "name": "stdout"
        }
      ]
    },
    {
      "cell_type": "code",
      "metadata": {
        "id": "3-Xlu1s8Bx-n",
        "colab_type": "code",
        "colab": {
          "base_uri": "https://localhost:8080/",
          "height": 458
        },
        "outputId": "f4c27346-1a64-49f6-f54d-97162c0184a9"
      },
      "source": [
        "\n",
        "fig,ax0 = plt.subplots(figsize=(13,7))\n",
        "ax0.plot(h1.history['mean_squared_error'])\n",
        "ax0.plot(h1.history['val_mean_squared_error'])\n",
        "ax0.set_title('Model accuracy')\n",
        "ax0.set_ylabel('Mean Squared Error')\n",
        "ax0.set_xlabel('Epoch')\n",
        "ax0.legend(['Train M1', 'Test M1'], loc='upper left',fontsize=15)\n",
        "plt.savefig('gdrive/My Drive/FlightDelayPrediction/ANNClassifierCharacteristics-V1.png')\n",
        "\n"
      ],
      "execution_count": 105,
      "outputs": [
        {
          "output_type": "display_data",
          "data": {
            "image/png": "[encoded data removed]",
            "text/plain": [
              "<Figure size 936x504 with 1 Axes>"
            ]
          },
          "metadata": {
            "tags": []
          }
        }
      ]
    },
    {
      "cell_type": "code",
      "metadata": {
        "id": "iUw-8LtldshQ",
        "colab_type": "code",
        "colab": {}
      },
      "source": [
        "from sklearn.metrics import classification_report,confusion_matrix,mean_squared_error,r2_score,mean_absolute_error"
      ],
      "execution_count": 0,
      "outputs": []
    },
    {
      "cell_type": "code",
      "metadata": {
        "id": "jm7l41PS1dk9",
        "colab_type": "code",
        "colab": {}
      },
      "source": [
        "y_pred = model.predict(X_test,batch_size=64)"
      ],
      "execution_count": 0,
      "outputs": []
    },
    {
      "cell_type": "code",
      "metadata": {
        "id": "q1Zi-h3u1xTl",
        "colab_type": "code",
        "colab": {
          "base_uri": "https://localhost:8080/",
          "height": 592
        },
        "outputId": "78531e84-ba06-4fc6-9e1a-d15fa3b98e29"
      },
      "source": [
        "fig,ax1 = plt.subplots(figsize=(15,10))\n",
        "\n",
        "ax1.scatter(x=[i for i in range(50)],y=y_pred[:50],c='red',label='Predicted')\n",
        "ax1.scatter(x=[i for i in range(50)],y=y_test[:50],c='green',label='Actual')\n",
        "ax1.legend(fontsize=15)\n",
        "plt.show()\n"
      ],
      "execution_count": 108,
      "outputs": [
        {
          "output_type": "display_data",
          "data": {
            "image/png": "[encoded data removed]",
            "text/plain": [
              "<Figure size 1080x720 with 1 Axes>"
            ]
          },
          "metadata": {
            "tags": []
          }
        }
      ]
    },
    {
      "cell_type": "code",
      "metadata": {
        "id": "qneXmVgJ2FI4",
        "colab_type": "code",
        "colab": {
          "base_uri": "https://localhost:8080/",
          "height": 34
        },
        "outputId": "a5c32d9f-8320-4d77-9238-7efec634e036"
      },
      "source": [
        "print(mean_squared_error(y_test,y_pred))"
      ],
      "execution_count": 109,
      "outputs": [
        {
          "output_type": "stream",
          "text": [
            "355.70417246651414\n"
          ],
          "name": "stdout"
        }
      ]
    },
    {
      "cell_type": "code",
      "metadata": {
        "id": "G3r3WIFu2oxH",
        "colab_type": "code",
        "colab": {
          "base_uri": "https://localhost:8080/",
          "height": 34
        },
        "outputId": "57ed46ed-9363-4729-9fd7-36870b4043aa"
      },
      "source": [
        "print(r2_score(y_test,y_pred))"
      ],
      "execution_count": 110,
      "outputs": [
        {
          "output_type": "stream",
          "text": [
            "0.9054631417168125\n"
          ],
          "name": "stdout"
        }
      ]
    },
    {
      "cell_type": "code",
      "metadata": {
        "id": "Rl6KWrQH3EwG",
        "colab_type": "code",
        "colab": {
          "base_uri": "https://localhost:8080/",
          "height": 34
        },
        "outputId": "7975bc5a-75ad-4534-9450-5b7d9d6b5fb0"
      },
      "source": [
        "print(mean_absolute_error(y_test,y_pred))"
      ],
      "execution_count": 111,
      "outputs": [
        {
          "output_type": "stream",
          "text": [
            "11.816568466721368\n"
          ],
          "name": "stdout"
        }
      ]
    },
    {
      "cell_type": "code",
      "metadata": {
        "id": "qGhFXpnb-Bqv",
        "colab_type": "code",
        "colab": {}
      },
      "source": [
        ""
      ],
      "execution_count": 0,
      "outputs": []
    }
  ]
}