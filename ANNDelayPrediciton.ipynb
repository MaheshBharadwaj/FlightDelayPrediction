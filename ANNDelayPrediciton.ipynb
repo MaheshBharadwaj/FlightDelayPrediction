{
  "nbformat": 4,
  "nbformat_minor": 0,
  "metadata": {
    "colab": {
      "name": "ANNDelayPrediciton.ipynb",
      "provenance": [],
      "collapsed_sections": []
    },
    "kernelspec": {
      "name": "python3",
      "display_name": "Python 3"
    }
  },
  "cells": [
    {
      "cell_type": "code",
      "metadata": {
        "id": "MD1nb67oc9wp",
        "colab_type": "code",
        "outputId": "9d746500-91f4-4811-b9f1-4013852917d0",
        "colab": {
          "base_uri": "https://localhost:8080/",
          "height": 124
        }
      },
      "source": [
        "from google.colab import drive\n",
        "\n",
        "drive.mount('/content/gdrive')"
      ],
      "execution_count": 1,
      "outputs": [
        {
          "output_type": "stream",
          "text": [
            "Go to this URL in a browser: https://accounts.google.com/o/oauth2/auth?client_id=947318989803-6bn6qk8qdgf4n4g3pfee6491hc0brc4i.apps.googleusercontent.com&redirect_uri=urn%3aietf%3awg%3aoauth%3a2.0%3aoob&response_type=code&scope=email%20https%3a%2f%2fwww.googleapis.com%2fauth%2fdocs.test%20https%3a%2f%2fwww.googleapis.com%2fauth%2fdrive%20https%3a%2f%2fwww.googleapis.com%2fauth%2fdrive.photos.readonly%20https%3a%2f%2fwww.googleapis.com%2fauth%2fpeopleapi.readonly\n",
            "\n",
            "Enter your authorization code:\n",
            "··········\n",
            "Mounted at /content/gdrive\n"
          ],
          "name": "stdout"
        }
      ]
    },
    {
      "cell_type": "code",
      "metadata": {
        "id": "MxDA2LywdAxv",
        "colab_type": "code",
        "colab": {}
      },
      "source": [
        "flightDataPath = 'gdrive/My Drive/FlightDelayPrediction/FlightData/'"
      ],
      "execution_count": 0,
      "outputs": []
    },
    {
      "cell_type": "code",
      "metadata": {
        "id": "Uzkb3vjBdQsE",
        "colab_type": "code",
        "colab": {}
      },
      "source": [
        "import numpy as np\n",
        "import pandas as pd\n",
        "import matplotlib\n",
        "import matplotlib.pyplot as plt\n",
        "import pickle"
      ],
      "execution_count": 0,
      "outputs": []
    },
    {
      "cell_type": "code",
      "metadata": {
        "id": "dRclR9ARdWab",
        "colab_type": "code",
        "colab": {
          "base_uri": "https://localhost:8080/",
          "height": 64
        },
        "outputId": "ab2cb53d-23c4-4a9c-9769-22693e5e56ed"
      },
      "source": [
        "from sklearn.model_selection import train_test_split\n",
        "from sklearn.preprocessing import LabelEncoder\n",
        "from tensorflow.keras.models import Sequential\n",
        "from tensorflow.keras.layers import Dense,Dropout,LeakyReLU\n",
        "from tensorflow.keras.optimizers import *\n",
        "from tensorflow.keras import metrics\n"
      ],
      "execution_count": 4,
      "outputs": [
        {
          "output_type": "display_data",
          "data": {
            "text/html": [
              "<p style=\"color: red;\">\n",
              "The default version of TensorFlow in Colab will soon switch to TensorFlow 2.x.<br>\n",
              "We recommend you <a href=\"https://www.tensorflow.org/guide/migrate\" target=\"_blank\">upgrade</a> now \n",
              "or ensure your notebook will continue to use TensorFlow 1.x via the <code>%tensorflow_version 1.x</code> magic:\n",
              "<a href=\"https://colab.research.google.com/notebooks/tensorflow_version.ipynb\" target=\"_blank\">more info</a>.</p>\n"
            ],
            "text/plain": [
              "<IPython.core.display.HTML object>"
            ]
          },
          "metadata": {
            "tags": []
          }
        }
      ]
    },
    {
      "cell_type": "code",
      "metadata": {
        "id": "XENA3nVldeRQ",
        "colab_type": "code",
        "colab": {}
      },
      "source": [
        "pkl_file = open(flightDataPath + '/JoinedData.pkl','rb')\n",
        "df = pickle.load(pkl_file)\n",
        "pkl_file.close()\n",
        "le = LabelEncoder()\n",
        "\n",
        "df['Origin'] = le.fit_transform(df['Origin'])\n",
        "df['Dest'] = le.fit_transform(df['Dest'])\n",
        "\n",
        "df.dropna(how='any',inplace=True)\n",
        "df.drop(columns=['FlightDate','date','ArrTime','ArrDel15','CRSArrTime','NearestDepTime'],inplace=True)\n",
        "df = df[df['ArrDelayMinutes'] > 0]\n",
        "df = df.apply(pd.to_numeric)\n",
        "X = df.loc[:, df.columns != 'ArrDelayMinutes']\n",
        "y = df.loc[:, df.columns == 'ArrDelayMinutes']\n",
        "\n",
        "X_train,X_test,y_train,y_test = train_test_split(X,y,random_state=42,test_size=0.25)"
      ],
      "execution_count": 0,
      "outputs": []
    },
    {
      "cell_type": "code",
      "metadata": {
        "id": "7Yv1HyRodj7C",
        "colab_type": "code",
        "outputId": "b8b548e2-3d3a-4257-d697-21ac4fd25d4f",
        "colab": {
          "base_uri": "https://localhost:8080/",
          "height": 402
        }
      },
      "source": [
        "model = Sequential()\n",
        "model.add(Dense(units = 32, input_dim = X_train.shape[1]))\n",
        "model.add(LeakyReLU(alpha=0.0005 ))\n",
        "model.add(Dense(units = 64))\n",
        "model.add(LeakyReLU(alpha=0.0005 ))\n",
        "model.add(Dense(units = 1  , activation = 'linear'))\n",
        "model.compile(loss='mean_squared_error', optimizer=Nadam(), metrics=['mean_squared_error'])\n",
        "model.summary()"
      ],
      "execution_count": 7,
      "outputs": [
        {
          "output_type": "stream",
          "text": [
            "WARNING:tensorflow:From /tensorflow-1.15.0/python3.6/tensorflow_core/python/ops/resource_variable_ops.py:1630: calling BaseResourceVariable.__init__ (from tensorflow.python.ops.resource_variable_ops) with constraint is deprecated and will be removed in a future version.\n",
            "Instructions for updating:\n",
            "If using Keras pass *_constraint arguments to layers.\n",
            "Model: \"sequential\"\n",
            "_________________________________________________________________\n",
            "Layer (type)                 Output Shape              Param #   \n",
            "=================================================================\n",
            "dense (Dense)                (None, 32)                768       \n",
            "_________________________________________________________________\n",
            "leaky_re_lu (LeakyReLU)      (None, 32)                0         \n",
            "_________________________________________________________________\n",
            "dense_1 (Dense)              (None, 64)                2112      \n",
            "_________________________________________________________________\n",
            "leaky_re_lu_1 (LeakyReLU)    (None, 64)                0         \n",
            "_________________________________________________________________\n",
            "dense_2 (Dense)              (None, 1)                 65        \n",
            "=================================================================\n",
            "Total params: 2,945\n",
            "Trainable params: 2,945\n",
            "Non-trainable params: 0\n",
            "_________________________________________________________________\n"
          ],
          "name": "stdout"
        }
      ]
    },
    {
      "cell_type": "code",
      "metadata": {
        "id": "7fsrzxivdoq0",
        "colab_type": "code",
        "outputId": "edfeb792-e17d-4c18-c96c-f993a4b4cd6c",
        "colab": {
          "base_uri": "https://localhost:8080/",
          "height": 729
        }
      },
      "source": [
        "h1 = model.fit(X_train,y_train,validation_data=(X_test,y_test),epochs=20,batch_size=128,verbose=2,use_multiprocessing=True)"
      ],
      "execution_count": 8,
      "outputs": [
        {
          "output_type": "stream",
          "text": [
            "Train on 525213 samples, validate on 175071 samples\n",
            "Epoch 1/20\n",
            "525213/525213 - 7s - loss: 587.9713 - mean_squared_error: 587.9701 - val_loss: 333.9588 - val_mean_squared_error: 333.9587\n",
            "Epoch 2/20\n",
            "525213/525213 - 7s - loss: 262.2938 - mean_squared_error: 262.2935 - val_loss: 264.6373 - val_mean_squared_error: 264.6373\n",
            "Epoch 3/20\n",
            "525213/525213 - 7s - loss: 248.8462 - mean_squared_error: 248.8461 - val_loss: 244.1014 - val_mean_squared_error: 244.1013\n",
            "Epoch 4/20\n",
            "525213/525213 - 7s - loss: 243.5789 - mean_squared_error: 243.5793 - val_loss: 268.1866 - val_mean_squared_error: 268.1866\n",
            "Epoch 5/20\n",
            "525213/525213 - 7s - loss: 241.0083 - mean_squared_error: 241.0079 - val_loss: 252.1685 - val_mean_squared_error: 252.1685\n",
            "Epoch 6/20\n",
            "525213/525213 - 7s - loss: 239.8216 - mean_squared_error: 239.8220 - val_loss: 240.3525 - val_mean_squared_error: 240.3525\n",
            "Epoch 7/20\n",
            "525213/525213 - 7s - loss: 239.0974 - mean_squared_error: 239.0975 - val_loss: 249.5292 - val_mean_squared_error: 249.5293\n",
            "Epoch 8/20\n",
            "525213/525213 - 7s - loss: 238.3209 - mean_squared_error: 238.3209 - val_loss: 244.5150 - val_mean_squared_error: 244.5152\n",
            "Epoch 9/20\n",
            "525213/525213 - 7s - loss: 237.8219 - mean_squared_error: 237.8217 - val_loss: 241.4273 - val_mean_squared_error: 241.4276\n",
            "Epoch 10/20\n",
            "525213/525213 - 7s - loss: 237.4575 - mean_squared_error: 237.4574 - val_loss: 241.5540 - val_mean_squared_error: 241.5539\n",
            "Epoch 11/20\n",
            "525213/525213 - 7s - loss: 237.1530 - mean_squared_error: 237.1528 - val_loss: 238.8785 - val_mean_squared_error: 238.8785\n",
            "Epoch 12/20\n",
            "525213/525213 - 7s - loss: 236.7413 - mean_squared_error: 236.7413 - val_loss: 239.4718 - val_mean_squared_error: 239.4718\n",
            "Epoch 13/20\n",
            "525213/525213 - 7s - loss: 236.5426 - mean_squared_error: 236.5425 - val_loss: 239.4276 - val_mean_squared_error: 239.4276\n",
            "Epoch 14/20\n",
            "525213/525213 - 7s - loss: 236.1793 - mean_squared_error: 236.1793 - val_loss: 238.3850 - val_mean_squared_error: 238.3849\n",
            "Epoch 15/20\n",
            "525213/525213 - 7s - loss: 236.0828 - mean_squared_error: 236.0829 - val_loss: 239.3014 - val_mean_squared_error: 239.3014\n",
            "Epoch 16/20\n",
            "525213/525213 - 7s - loss: 236.0480 - mean_squared_error: 236.0478 - val_loss: 241.3951 - val_mean_squared_error: 241.3951\n",
            "Epoch 17/20\n",
            "525213/525213 - 7s - loss: 235.8109 - mean_squared_error: 235.8109 - val_loss: 242.8504 - val_mean_squared_error: 242.8504\n",
            "Epoch 18/20\n",
            "525213/525213 - 7s - loss: 235.6804 - mean_squared_error: 235.6803 - val_loss: 237.2155 - val_mean_squared_error: 237.2156\n",
            "Epoch 19/20\n",
            "525213/525213 - 7s - loss: 235.6002 - mean_squared_error: 235.6004 - val_loss: 237.9964 - val_mean_squared_error: 237.9962\n",
            "Epoch 20/20\n",
            "525213/525213 - 7s - loss: 235.4691 - mean_squared_error: 235.4688 - val_loss: 237.7180 - val_mean_squared_error: 237.7180\n"
          ],
          "name": "stdout"
        }
      ]
    },
    {
      "cell_type": "code",
      "metadata": {
        "id": "3-Xlu1s8Bx-n",
        "colab_type": "code",
        "outputId": "2c080555-26c5-4b15-8dbc-a7934a7e0e9e",
        "colab": {
          "base_uri": "https://localhost:8080/",
          "height": 458
        }
      },
      "source": [
        "\n",
        "fig,ax0 = plt.subplots(figsize=(13,7))\n",
        "ax0.plot(h1.history['mean_squared_error'])\n",
        "ax0.plot(h1.history['val_mean_squared_error'])\n",
        "ax0.set_title('Model accuracy')\n",
        "ax0.set_ylabel('Mean Squared Error')\n",
        "ax0.set_xlabel('Epoch')\n",
        "ax0.legend(['Train M1', 'Test M1'], loc='upper left',fontsize=15)\n",
        "plt.savefig('gdrive/My Drive/FlightDelayPrediction/ANNClassifierCharacteristics-V1.png')\n",
        "\n"
      ],
      "execution_count": 9,
      "outputs": [
        {
          "output_type": "display_data",
          "data": {
            "image/png": "[encoded data removed]",
            "text/plain": [
              "<Figure size 936x504 with 1 Axes>"
            ]
          },
          "metadata": {
            "tags": []
          }
        }
      ]
    },
    {
      "cell_type": "code",
      "metadata": {
        "id": "iUw-8LtldshQ",
        "colab_type": "code",
        "colab": {}
      },
      "source": [
        "from sklearn.metrics import classification_report,confusion_matrix,mean_squared_error,r2_score,mean_absolute_error"
      ],
      "execution_count": 0,
      "outputs": []
    },
    {
      "cell_type": "code",
      "metadata": {
        "id": "jm7l41PS1dk9",
        "colab_type": "code",
        "colab": {}
      },
      "source": [
        "y_pred = model.predict(X_test,batch_size=64)"
      ],
      "execution_count": 0,
      "outputs": []
    },
    {
      "cell_type": "code",
      "metadata": {
        "id": "q1Zi-h3u1xTl",
        "colab_type": "code",
        "outputId": "2fd1141d-ba34-4010-e205-73806aa335de",
        "colab": {
          "base_uri": "https://localhost:8080/",
          "height": 592
        }
      },
      "source": [
        "fig,ax1 = plt.subplots(figsize=(15,10))\n",
        "\n",
        "ax1.scatter(x=[i for i in range(50)],y=y_pred[:50],c='red',label='Predicted')\n",
        "ax1.scatter(x=[i for i in range(50)],y=y_test[:50],c='green',label='Actual')\n",
        "ax1.legend(fontsize=15)\n",
        "plt.show()\n"
      ],
      "execution_count": 12,
      "outputs": [
        {
          "output_type": "display_data",
          "data": {
            "image/png": "[encoded data removed]",
            "text/plain": [
              "<Figure size 1080x720 with 1 Axes>"
            ]
          },
          "metadata": {
            "tags": []
          }
        }
      ]
    },
    {
      "cell_type": "code",
      "metadata": {
        "id": "qneXmVgJ2FI4",
        "colab_type": "code",
        "outputId": "64449dba-52f7-426b-f427-f86dda9d1f2e",
        "colab": {
          "base_uri": "https://localhost:8080/",
          "height": 34
        }
      },
      "source": [
        "print(mean_squared_error(y_test,y_pred))"
      ],
      "execution_count": 13,
      "outputs": [
        {
          "output_type": "stream",
          "text": [
            "237.71798491030594\n"
          ],
          "name": "stdout"
        }
      ]
    },
    {
      "cell_type": "code",
      "metadata": {
        "id": "G3r3WIFu2oxH",
        "colab_type": "code",
        "outputId": "67d73c5b-0f8e-4aef-ebae-26e7d2764cc4",
        "colab": {
          "base_uri": "https://localhost:8080/",
          "height": 34
        }
      },
      "source": [
        "print(r2_score(y_test,y_pred))"
      ],
      "execution_count": 14,
      "outputs": [
        {
          "output_type": "stream",
          "text": [
            "0.9368207820138907\n"
          ],
          "name": "stdout"
        }
      ]
    },
    {
      "cell_type": "code",
      "metadata": {
        "id": "Rl6KWrQH3EwG",
        "colab_type": "code",
        "outputId": "b1b9a31f-f92f-4a87-d531-780fc435412b",
        "colab": {
          "base_uri": "https://localhost:8080/",
          "height": 34
        }
      },
      "source": [
        "print(mean_absolute_error(y_test,y_pred))"
      ],
      "execution_count": 15,
      "outputs": [
        {
          "output_type": "stream",
          "text": [
            "10.376015990361564\n"
          ],
          "name": "stdout"
        }
      ]
    },
    {
      "cell_type": "code",
      "metadata": {
        "id": "qGhFXpnb-Bqv",
        "colab_type": "code",
        "colab": {}
      },
      "source": [
        ""
      ],
      "execution_count": 0,
      "outputs": []
    }
  ]
}