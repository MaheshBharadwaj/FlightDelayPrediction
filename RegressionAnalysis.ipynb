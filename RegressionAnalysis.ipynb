{
 "cells": [
  {
   "cell_type": "code",
   "execution_count": 1,
   "metadata": {},
   "outputs": [],
   "source": [
    "import pandas as pd\n",
    "import numpy as np\n",
    "import matplotlib.pyplot as plt\n",
    "import seaborn as sns\n",
    "import pickle\n",
    "import xgboost as xgb\n",
    "from sklearn.preprocessing import LabelEncoder"
   ]
  },
  {
   "cell_type": "code",
   "execution_count": 2,
   "metadata": {},
   "outputs": [],
   "source": [
    "df = pickle.load(open('./JoinedData.pkl','rb'))\n",
    "df.dropna(how='any',inplace=True)\n",
    "df.drop(columns=['FlightDate','date','ArrTime','ArrDel15','CRSArrTime','NearestDepTime'],inplace=True)\n",
    "\n",
    "le = LabelEncoder()\n",
    "df['Origin'] = le.fit_transform(df['Origin'])\n",
    "df['Dest'] = le.fit_transform(df['Dest'])\n",
    "\n",
    "df = df.apply(pd.to_numeric)\n",
    "df = df[df['ArrDelayMinutes'] > 0]"
   ]
  },
  {
   "cell_type": "code",
   "execution_count": 3,
   "metadata": {},
   "outputs": [
    {
     "data": {
      "image/png": "[encoded data removed]",
      "text/plain": [
       "<Figure size 720x360 with 1 Axes>"
      ]
     },
     "metadata": {
      "needs_background": "light"
     },
     "output_type": "display_data"
    }
   ],
   "source": [
    "fig,ax = plt.subplots(figsize=(10,5))\n",
    "sns.distplot(df['ArrDelayMinutes'], hist=True, kde=True,bins=100, color = 'darkblue',\\\n",
    "             hist_kws={'edgecolor':'black'},\\\n",
    "             kde_kws={'linewidth': 4},label = 'Frequency')\n",
    "ax.legend(loc='upper right')\n",
    "plt.savefig('./Images/DelayFrequencyHistogram.png')\n",
    "plt.show()"
   ]
  },
  {
   "cell_type": "code",
   "execution_count": 4,
   "metadata": {},
   "outputs": [],
   "source": [
    "class_0_100 = [False for i in range(df.shape[0])]\n",
    "class_100_200 = [False for i in range(df.shape[0])]\n",
    "class_200_500 = [False for i in range(df.shape[0])]\n",
    "class_500_1000 = [False for i in range(df.shape[0])]\n",
    "class_1000_2000 = [False for i in range(df.shape[0])]\n",
    "\n",
    "for i in range(df.shape[0]):\n",
    "    delay = df.iloc[i]['ArrDelayMinutes']\n",
    "    \n",
    "    if delay < 100:\n",
    "        class_0_100[i] = True\n",
    "    elif delay < 200:\n",
    "        class_100_200[i] = True\n",
    "    elif delay < 500:\n",
    "        class_200_500[i] = True\n",
    "    elif delay < 1000:\n",
    "        class_500_1000[i] = True\n",
    "    else:\n",
    "        class_1000_2000[i] = True\n",
    "\n",
    "        \n",
    "df1 = df.where(pd.Series(class_0_100))\n",
    "df1.dropna(how='any',inplace=True)\n",
    "  \n",
    "df2 = df.where(pd.Series(class_100_200))\n",
    "df2.dropna(how='any',inplace=True)\n",
    "  \n",
    "df3 = df.where(pd.Series(class_200_500))\n",
    "df3.dropna(how='any',inplace=True)\n",
    "  \n",
    "df4 = df.where(pd.Series(class_500_1000))\n",
    "df4.dropna(how='any',inplace=True)\n",
    "  \n",
    "df5 = df.where(pd.Series(class_1000_2000))\n",
    "df5.dropna(how='any',inplace=True)\n"
   ]
  },
  {
   "cell_type": "code",
   "execution_count": 5,
   "metadata": {},
   "outputs": [
    {
     "name": "stdout",
     "output_type": "stream",
     "text": [
      "[21:36:24] WARNING: /home/conda/feedstock_root/build_artifacts/xgboost_1572314959925/work/src/objective/regression_obj.cu:152: reg:linear is now deprecated in favor of reg:squarederror.\n"
     ]
    }
   ],
   "source": [
    "regressor = pickle.load(open('./TrainedModels/XGBoostRegressor.pkl','rb'))"
   ]
  },
  {
   "cell_type": "code",
   "execution_count": 6,
   "metadata": {},
   "outputs": [],
   "source": [
    "from sklearn.metrics import *"
   ]
  },
  {
   "cell_type": "markdown",
   "metadata": {},
   "source": [
    "# 0 - 100 Class Analysis"
   ]
  },
  {
   "cell_type": "code",
   "execution_count": 7,
   "metadata": {},
   "outputs": [],
   "source": [
    "input_df = df1.iloc[:, df1.columns != 'ArrDelayMinutes']\n",
    "actual_delay = df1.iloc[:, df1.columns == 'ArrDelayMinutes']"
   ]
  },
  {
   "cell_type": "code",
   "execution_count": 8,
   "metadata": {},
   "outputs": [],
   "source": [
    "predicted_delay = regressor.predict(input_df)"
   ]
  },
  {
   "cell_type": "code",
   "execution_count": 9,
   "metadata": {},
   "outputs": [
    {
     "name": "stdout",
     "output_type": "stream",
     "text": [
      "209.049310916174\n"
     ]
    }
   ],
   "source": [
    "print(mean_squared_error(y_pred=predicted_delay,y_true=actual_delay))"
   ]
  },
  {
   "cell_type": "code",
   "execution_count": 10,
   "metadata": {},
   "outputs": [
    {
     "name": "stdout",
     "output_type": "stream",
     "text": [
      "0.9442533728015021\n"
     ]
    }
   ],
   "source": [
    "print(r2_score(y_pred=predicted_delay,y_true=actual_delay))"
   ]
  },
  {
   "cell_type": "code",
   "execution_count": 11,
   "metadata": {},
   "outputs": [
    {
     "name": "stdout",
     "output_type": "stream",
     "text": [
      "9.819466570064264\n"
     ]
    }
   ],
   "source": [
    "print(mean_absolute_error(y_true=actual_delay,y_pred=predicted_delay))"
   ]
  },
  {
   "cell_type": "code",
   "execution_count": 12,
   "metadata": {},
   "outputs": [
    {
     "name": "stdout",
     "output_type": "stream",
     "text": [
      "14.45853764791495\n"
     ]
    }
   ],
   "source": [
    "print(np.sqrt(mean_squared_error(y_pred=predicted_delay,y_true=actual_delay)))"
   ]
  },
  {
   "cell_type": "markdown",
   "metadata": {},
   "source": [
    "# 100 - 200 Class Analysis"
   ]
  },
  {
   "cell_type": "code",
   "execution_count": 13,
   "metadata": {},
   "outputs": [],
   "source": [
    "input_df = df2.iloc[:, df2.columns != 'ArrDelayMinutes']\n",
    "actual_delay = df2.iloc[:, df2.columns == 'ArrDelayMinutes']"
   ]
  },
  {
   "cell_type": "code",
   "execution_count": 14,
   "metadata": {},
   "outputs": [],
   "source": [
    "predicted_delay = regressor.predict(input_df)"
   ]
  },
  {
   "cell_type": "code",
   "execution_count": 15,
   "metadata": {},
   "outputs": [
    {
     "name": "stdout",
     "output_type": "stream",
     "text": [
      "209.83097291606373\n"
     ]
    }
   ],
   "source": [
    "print(mean_squared_error(y_pred=predicted_delay,y_true=actual_delay))"
   ]
  },
  {
   "cell_type": "code",
   "execution_count": 16,
   "metadata": {},
   "outputs": [
    {
     "name": "stdout",
     "output_type": "stream",
     "text": [
      "0.9410494358281367\n"
     ]
    }
   ],
   "source": [
    "print(r2_score(y_pred=predicted_delay,y_true=actual_delay))"
   ]
  },
  {
   "cell_type": "code",
   "execution_count": 17,
   "metadata": {},
   "outputs": [
    {
     "name": "stdout",
     "output_type": "stream",
     "text": [
      "9.895076188617919\n"
     ]
    }
   ],
   "source": [
    "print(mean_absolute_error(y_true=actual_delay,y_pred=predicted_delay))"
   ]
  },
  {
   "cell_type": "code",
   "execution_count": 18,
   "metadata": {},
   "outputs": [
    {
     "name": "stdout",
     "output_type": "stream",
     "text": [
      "14.48554358372732\n"
     ]
    }
   ],
   "source": [
    "print(np.sqrt(mean_squared_error(y_pred=predicted_delay,y_true=actual_delay)))"
   ]
  },
  {
   "cell_type": "markdown",
   "metadata": {},
   "source": [
    "# 200 - 500 Class Analysis"
   ]
  },
  {
   "cell_type": "code",
   "execution_count": 19,
   "metadata": {},
   "outputs": [],
   "source": [
    "input_df = df3.iloc[:, df3.columns != 'ArrDelayMinutes']\n",
    "actual_delay = df3.iloc[:, df3.columns == 'ArrDelayMinutes']"
   ]
  },
  {
   "cell_type": "code",
   "execution_count": 20,
   "metadata": {},
   "outputs": [],
   "source": [
    "predicted_delay = regressor.predict(input_df)"
   ]
  },
  {
   "cell_type": "code",
   "execution_count": 21,
   "metadata": {},
   "outputs": [
    {
     "name": "stdout",
     "output_type": "stream",
     "text": [
      "205.2117973492066\n"
     ]
    }
   ],
   "source": [
    "print(mean_squared_error(y_pred=predicted_delay,y_true=actual_delay))"
   ]
  },
  {
   "cell_type": "code",
   "execution_count": 22,
   "metadata": {},
   "outputs": [
    {
     "name": "stdout",
     "output_type": "stream",
     "text": [
      "0.9423808541832065\n"
     ]
    }
   ],
   "source": [
    "print(r2_score(y_pred=predicted_delay,y_true=actual_delay))"
   ]
  },
  {
   "cell_type": "code",
   "execution_count": 23,
   "metadata": {},
   "outputs": [
    {
     "name": "stdout",
     "output_type": "stream",
     "text": [
      "9.713992770903271\n"
     ]
    }
   ],
   "source": [
    "print(mean_absolute_error(y_true=actual_delay,y_pred=predicted_delay))"
   ]
  },
  {
   "cell_type": "code",
   "execution_count": 24,
   "metadata": {},
   "outputs": [
    {
     "name": "stdout",
     "output_type": "stream",
     "text": [
      "14.325215438142862\n"
     ]
    }
   ],
   "source": [
    "print(np.sqrt(mean_squared_error(y_pred=predicted_delay,y_true=actual_delay)))"
   ]
  },
  {
   "cell_type": "markdown",
   "metadata": {},
   "source": [
    "# 500 - 1000 Class Analysis"
   ]
  },
  {
   "cell_type": "code",
   "execution_count": 25,
   "metadata": {},
   "outputs": [],
   "source": [
    "input_df = df4.iloc[:, df4.columns != 'ArrDelayMinutes']\n",
    "actual_delay = df4.iloc[:, df4.columns == 'ArrDelayMinutes']"
   ]
  },
  {
   "cell_type": "code",
   "execution_count": 26,
   "metadata": {},
   "outputs": [],
   "source": [
    "predicted_delay = regressor.predict(input_df)"
   ]
  },
  {
   "cell_type": "code",
   "execution_count": 27,
   "metadata": {},
   "outputs": [
    {
     "name": "stdout",
     "output_type": "stream",
     "text": [
      "221.72594511684514\n"
     ]
    }
   ],
   "source": [
    "print(mean_squared_error(y_pred=predicted_delay,y_true=actual_delay))"
   ]
  },
  {
   "cell_type": "code",
   "execution_count": 28,
   "metadata": {
    "scrolled": true
   },
   "outputs": [
    {
     "name": "stdout",
     "output_type": "stream",
     "text": [
      "0.9195215946385705\n"
     ]
    }
   ],
   "source": [
    "print(r2_score(y_pred=predicted_delay,y_true=actual_delay))"
   ]
  },
  {
   "cell_type": "code",
   "execution_count": 29,
   "metadata": {},
   "outputs": [
    {
     "name": "stdout",
     "output_type": "stream",
     "text": [
      "9.825943333762032\n"
     ]
    }
   ],
   "source": [
    "print(mean_absolute_error(y_true=actual_delay,y_pred=predicted_delay))"
   ]
  },
  {
   "cell_type": "code",
   "execution_count": 30,
   "metadata": {},
   "outputs": [
    {
     "name": "stdout",
     "output_type": "stream",
     "text": [
      "14.890464906000926\n"
     ]
    }
   ],
   "source": [
    "print(np.sqrt(mean_squared_error(y_pred=predicted_delay,y_true=actual_delay)))"
   ]
  },
  {
   "cell_type": "markdown",
   "metadata": {},
   "source": [
    "# 1000 - 2000 Class Analysis"
   ]
  },
  {
   "cell_type": "code",
   "execution_count": 31,
   "metadata": {},
   "outputs": [],
   "source": [
    "input_df = df5.iloc[:, df5.columns != 'ArrDelayMinutes']\n",
    "actual_delay = df5.iloc[:, df5.columns == 'ArrDelayMinutes']"
   ]
  },
  {
   "cell_type": "code",
   "execution_count": 32,
   "metadata": {},
   "outputs": [],
   "source": [
    "predicted_delay = regressor.predict(input_df)"
   ]
  },
  {
   "cell_type": "code",
   "execution_count": 33,
   "metadata": {},
   "outputs": [
    {
     "name": "stdout",
     "output_type": "stream",
     "text": [
      "220.01563935729368\n"
     ]
    }
   ],
   "source": [
    "print(mean_squared_error(y_pred=predicted_delay,y_true=actual_delay))"
   ]
  },
  {
   "cell_type": "code",
   "execution_count": 34,
   "metadata": {},
   "outputs": [
    {
     "name": "stdout",
     "output_type": "stream",
     "text": [
      "0.9016472741194024\n"
     ]
    }
   ],
   "source": [
    "print(r2_score(y_pred=predicted_delay,y_true=actual_delay))"
   ]
  },
  {
   "cell_type": "code",
   "execution_count": 35,
   "metadata": {},
   "outputs": [
    {
     "name": "stdout",
     "output_type": "stream",
     "text": [
      "9.71894716860643\n"
     ]
    }
   ],
   "source": [
    "print(mean_absolute_error(y_true=actual_delay,y_pred=predicted_delay))"
   ]
  },
  {
   "cell_type": "code",
   "execution_count": 36,
   "metadata": {},
   "outputs": [
    {
     "name": "stdout",
     "output_type": "stream",
     "text": [
      "14.832924167449036\n"
     ]
    }
   ],
   "source": [
    "print(np.sqrt(mean_squared_error(y_pred=predicted_delay,y_true=actual_delay)))"
   ]
  },
  {
   "cell_type": "markdown",
   "metadata": {},
   "source": [
    "# Compiled Data\n",
    "\n",
    "| Range of Delay | MSE | $R^{2}$ SCORE |\n",
    "| -----: | :-- | :-- | \n",
    "| 100 - 200 | 209.8309 | 0.9410 |\n",
    "| 200 - 500 | 205.2117 | 0.9423 |\n",
    "| 500 - 1000 | 221.7259 | 0.9195 |\n",
    "| 1000 - 2000 | 220.0156 | 0.9016 |"
   ]
  },
  {
   "cell_type": "code",
   "execution_count": 37,
   "metadata": {},
   "outputs": [
    {
     "data": {
      "text/plain": [
       "2142.0"
      ]
     },
     "execution_count": 37,
     "metadata": {},
     "output_type": "execute_result"
    }
   ],
   "source": [
    "np.max(df['ArrDelayMinutes'])"
   ]
  },
  {
   "cell_type": "code",
   "execution_count": null,
   "metadata": {},
   "outputs": [],
   "source": [
    "np.min(df['A'])"
   ]
  }
 ],
 "metadata": {
  "kernelspec": {
   "display_name": "Python 3.7.6 64-bit",
   "language": "python",
   "name": "python37664bit9e154a0c1e604011a7def91e627778a1"
  },
  "language_info": {
   "codemirror_mode": {
    "name": "ipython",
    "version": 3
   },
   "file_extension": ".py",
   "mimetype": "text/x-python",
   "name": "python",
   "nbconvert_exporter": "python",
   "pygments_lexer": "ipython3",
   "version": "3.7.6"
  }
 },
 "nbformat": 4,
 "nbformat_minor": 2
}
