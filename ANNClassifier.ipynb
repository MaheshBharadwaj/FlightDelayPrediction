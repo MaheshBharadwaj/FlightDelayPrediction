{
  "nbformat": 4,
  "nbformat_minor": 0,
  "metadata": {
    "kernelspec": {
      "display_name": "Python 3.7.6 64-bit",
      "language": "python",
      "name": "python37664bit9e154a0c1e604011a7def91e627778a1"
    },
    "language_info": {
      "codemirror_mode": {
        "name": "ipython",
        "version": 3
      },
      "file_extension": ".py",
      "mimetype": "text/x-python",
      "name": "python",
      "nbconvert_exporter": "python",
      "pygments_lexer": "ipython3",
      "version": "3.7.6"
    },
    "colab": {
      "name": "ANN-Classifier.ipynb",
      "provenance": [],
      "collapsed_sections": []
    }
  },
  "cells": [
    {
      "cell_type": "code",
      "metadata": {
        "id": "D8bEeZt7uWz_",
        "colab_type": "code",
        "colab": {}
      },
      "source": [
        "import numpy as np\n",
        "import pandas as pd\n",
        "import matplotlib\n",
        "import matplotlib.pyplot as plt\n",
        "import pickle\n"
      ],
      "execution_count": 0,
      "outputs": []
    },
    {
      "cell_type": "code",
      "metadata": {
        "id": "cBQNLL0PugF4",
        "colab_type": "code",
        "outputId": "2433764d-a58b-49af-fd8b-a732353d0637",
        "colab": {
          "base_uri": "https://localhost:8080/",
          "height": 124
        }
      },
      "source": [
        "from google.colab import drive\n",
        "\n",
        "drive.mount('/content/gdrive')"
      ],
      "execution_count": 2,
      "outputs": [
        {
          "output_type": "stream",
          "text": [
            "Go to this URL in a browser: https://accounts.google.com/o/oauth2/auth?client_id=947318989803-6bn6qk8qdgf4n4g3pfee6491hc0brc4i.apps.googleusercontent.com&redirect_uri=urn%3aietf%3awg%3aoauth%3a2.0%3aoob&response_type=code&scope=email%20https%3a%2f%2fwww.googleapis.com%2fauth%2fdocs.test%20https%3a%2f%2fwww.googleapis.com%2fauth%2fdrive%20https%3a%2f%2fwww.googleapis.com%2fauth%2fdrive.photos.readonly%20https%3a%2f%2fwww.googleapis.com%2fauth%2fpeopleapi.readonly\n",
            "\n",
            "Enter your authorization code:\n",
            "··········\n",
            "Mounted at /content/gdrive\n"
          ],
          "name": "stdout"
        }
      ]
    },
    {
      "cell_type": "code",
      "metadata": {
        "id": "TXhY2ur6wN75",
        "colab_type": "code",
        "colab": {}
      },
      "source": [
        "from sklearn.metrics import confusion_matrix,classification_report\n",
        "from sklearn.preprocessing import LabelEncoder"
      ],
      "execution_count": 0,
      "outputs": []
    },
    {
      "cell_type": "code",
      "metadata": {
        "id": "XwLM3m_kuW0P",
        "colab_type": "code",
        "colab": {}
      },
      "source": [
        "pkl_file = open('gdrive/My Drive/FlightDelayPrediction/FlightData/JoinedData.pkl','rb')\n",
        "df = pickle.load(pkl_file)\n",
        "pkl_file.close()\n",
        "le = LabelEncoder()\n",
        "df['Origin'] = le.fit_transform(df['Origin'])\n",
        "df['Dest'] = le.fit_transform(df['Dest'])"
      ],
      "execution_count": 0,
      "outputs": []
    },
    {
      "cell_type": "code",
      "metadata": {
        "id": "hPR9tHtpuW0c",
        "colab_type": "code",
        "outputId": "7a855e07-0f25-47bb-a043-774ff26b64ba",
        "colab": {
          "base_uri": "https://localhost:8080/",
          "height": 64
        }
      },
      "source": [
        "from tensorflow.keras.models import Sequential\n",
        "from tensorflow.keras.layers import Dense,Dropout\n",
        "from tensorflow.keras.optimizers import Adam\n",
        "from tensorflow.keras import metrics"
      ],
      "execution_count": 5,
      "outputs": [
        {
          "output_type": "display_data",
          "data": {
            "text/html": [
              "<p style=\"color: red;\">\n",
              "The default version of TensorFlow in Colab will soon switch to TensorFlow 2.x.<br>\n",
              "We recommend you <a href=\"https://www.tensorflow.org/guide/migrate\" target=\"_blank\">upgrade</a> now \n",
              "or ensure your notebook will continue to use TensorFlow 1.x via the <code>%tensorflow_version 1.x</code> magic:\n",
              "<a href=\"https://colab.research.google.com/notebooks/tensorflow_version.ipynb\" target=\"_blank\">more info</a>.</p>\n"
            ],
            "text/plain": [
              "<IPython.core.display.HTML object>"
            ]
          },
          "metadata": {
            "tags": []
          }
        }
      ]
    },
    {
      "cell_type": "code",
      "metadata": {
        "id": "zpE6O0B5uW0l",
        "colab_type": "code",
        "colab": {}
      },
      "source": [
        "from sklearn.model_selection import train_test_split "
      ],
      "execution_count": 0,
      "outputs": []
    },
    {
      "cell_type": "code",
      "metadata": {
        "id": "GkPFq2w-uW0u",
        "colab_type": "code",
        "colab": {}
      },
      "source": [
        "df.dropna(how='any',inplace=True)\n",
        "df.drop(columns=['FlightDate','date','ArrTime','ArrDelayMinutes','CRSArrTime','NearestDepTime'],inplace=True)\n",
        "X = df.loc[:, df.columns != 'ArrDel15']\n",
        "y = df.loc[:, df.columns == 'ArrDel15']\n",
        "\n",
        "X_train,X_test,y_train,y_test = train_test_split(X,y,random_state=42,test_size=0.25)"
      ],
      "execution_count": 0,
      "outputs": []
    },
    {
      "cell_type": "code",
      "metadata": {
        "id": "avWYIysYuW02",
        "colab_type": "code",
        "outputId": "1e332554-4907-4f84-eb57-c2284e73b662",
        "colab": {
          "base_uri": "https://localhost:8080/",
          "height": 176
        }
      },
      "source": [
        "from imblearn.over_sampling import SMOTE \n",
        "sm = SMOTE(random_state = 2) \n",
        "X_train_res, y_train_res = sm.fit_sample(X_train, y_train) "
      ],
      "execution_count": 8,
      "outputs": [
        {
          "output_type": "stream",
          "text": [
            "/usr/local/lib/python3.6/dist-packages/sklearn/externals/six.py:31: FutureWarning: The module is deprecated in version 0.21 and will be removed in version 0.23 since we've dropped support for Python 2.7. Please rely on the official version of six (https://pypi.org/project/six/).\n",
            "  \"(https://pypi.org/project/six/).\", FutureWarning)\n",
            "/usr/local/lib/python3.6/dist-packages/sklearn/utils/deprecation.py:144: FutureWarning: The sklearn.neighbors.base module is  deprecated in version 0.22 and will be removed in version 0.24. The corresponding classes / functions should instead be imported from sklearn.neighbors. Anything that cannot be imported from sklearn.neighbors is now part of the private API.\n",
            "  warnings.warn(message, FutureWarning)\n",
            "/usr/local/lib/python3.6/dist-packages/sklearn/utils/validation.py:760: DataConversionWarning: A column-vector y was passed when a 1d array was expected. Please change the shape of y to (n_samples, ), for example using ravel().\n",
            "  y = column_or_1d(y, warn=True)\n",
            "/usr/local/lib/python3.6/dist-packages/sklearn/utils/deprecation.py:87: FutureWarning: Function safe_indexing is deprecated; safe_indexing is deprecated in version 0.22 and will be removed in version 0.24.\n",
            "  warnings.warn(msg, category=FutureWarning)\n"
          ],
          "name": "stderr"
        }
      ]
    },
    {
      "cell_type": "code",
      "metadata": {
        "id": "khJK0-eRuW0-",
        "colab_type": "code",
        "outputId": "7a1bcb35-990f-45c6-c40b-6d85d99127df",
        "colab": {
          "base_uri": "https://localhost:8080/",
          "height": 141
        }
      },
      "source": [
        "ann_classifier = Sequential()\n",
        "ann_classifier.add(Dense( units = 64, input_dim = X_train_res.shape[1], activation = 'relu'))\n",
        "ann_classifier.add(Dense( units = 128, activation = 'relu'))\n",
        "ann_classifier.add(Dense( units = 128, activation = 'relu'))\n",
        "ann_classifier.add(Dense( units = 1, activation = 'sigmoid'))\n",
        "ann_classifier.compile(loss='binary_crossentropy', optimizer=Adam(), metrics=['accuracy'])\n",
        "\n",
        "    "
      ],
      "execution_count": 9,
      "outputs": [
        {
          "output_type": "stream",
          "text": [
            "WARNING:tensorflow:From /tensorflow-1.15.0/python3.6/tensorflow_core/python/ops/resource_variable_ops.py:1630: calling BaseResourceVariable.__init__ (from tensorflow.python.ops.resource_variable_ops) with constraint is deprecated and will be removed in a future version.\n",
            "Instructions for updating:\n",
            "If using Keras pass *_constraint arguments to layers.\n",
            "WARNING:tensorflow:From /tensorflow-1.15.0/python3.6/tensorflow_core/python/ops/nn_impl.py:183: where (from tensorflow.python.ops.array_ops) is deprecated and will be removed in a future version.\n",
            "Instructions for updating:\n",
            "Use tf.where in 2.0, which has the same broadcast rule as np.where\n"
          ],
          "name": "stdout"
        }
      ]
    },
    {
      "cell_type": "code",
      "metadata": {
        "id": "AON3e-zpuW1D",
        "colab_type": "code",
        "outputId": "1a8318b9-a0af-4cce-8342-6083bef64634",
        "colab": {
          "base_uri": "https://localhost:8080/",
          "height": 295
        }
      },
      "source": [
        "ann_classifier.summary()"
      ],
      "execution_count": 10,
      "outputs": [
        {
          "output_type": "stream",
          "text": [
            "Model: \"sequential\"\n",
            "_________________________________________________________________\n",
            "Layer (type)                 Output Shape              Param #   \n",
            "=================================================================\n",
            "dense (Dense)                (None, 64)                1536      \n",
            "_________________________________________________________________\n",
            "dense_1 (Dense)              (None, 128)               8320      \n",
            "_________________________________________________________________\n",
            "dense_2 (Dense)              (None, 128)               16512     \n",
            "_________________________________________________________________\n",
            "dense_3 (Dense)              (None, 1)                 129       \n",
            "=================================================================\n",
            "Total params: 26,497\n",
            "Trainable params: 26,497\n",
            "Non-trainable params: 0\n",
            "_________________________________________________________________\n"
          ],
          "name": "stdout"
        }
      ]
    },
    {
      "cell_type": "code",
      "metadata": {
        "id": "oD8kfkd3uW1R",
        "colab_type": "code",
        "outputId": "6a3c5538-a73b-4be4-edb2-e192132a3980",
        "colab": {
          "base_uri": "https://localhost:8080/",
          "height": 555
        }
      },
      "source": [
        "h1 = ann_classifier.fit(X_train_res,y_train_res,validation_data=(X_test,y_test),epochs = 15,batch_size = 128,verbose = 2)"
      ],
      "execution_count": 11,
      "outputs": [
        {
          "output_type": "stream",
          "text": [
            "Train on 2194874 samples, validate on 462779 samples\n",
            "Epoch 1/15\n",
            "2194874/2194874 - 46s - loss: 0.4739 - acc: 0.8369 - val_loss: 0.2866 - val_acc: 0.8957\n",
            "Epoch 2/15\n",
            "2194874/2194874 - 47s - loss: 0.3463 - acc: 0.8520 - val_loss: 0.3384 - val_acc: 0.8854\n",
            "Epoch 3/15\n",
            "2194874/2194874 - 47s - loss: 0.3433 - acc: 0.8529 - val_loss: 0.3275 - val_acc: 0.8929\n",
            "Epoch 4/15\n",
            "2194874/2194874 - 45s - loss: 0.3418 - acc: 0.8531 - val_loss: 0.3347 - val_acc: 0.8930\n",
            "Epoch 5/15\n",
            "2194874/2194874 - 44s - loss: 0.3406 - acc: 0.8532 - val_loss: 0.3089 - val_acc: 0.8900\n",
            "Epoch 6/15\n",
            "2194874/2194874 - 44s - loss: 0.3394 - acc: 0.8531 - val_loss: 0.3154 - val_acc: 0.8907\n",
            "Epoch 7/15\n",
            "2194874/2194874 - 44s - loss: 0.3383 - acc: 0.8532 - val_loss: 0.3505 - val_acc: 0.8835\n",
            "Epoch 8/15\n",
            "2194874/2194874 - 44s - loss: 0.3377 - acc: 0.8532 - val_loss: 0.3023 - val_acc: 0.8863\n",
            "Epoch 9/15\n",
            "2194874/2194874 - 44s - loss: 0.3370 - acc: 0.8532 - val_loss: 0.3191 - val_acc: 0.8908\n",
            "Epoch 10/15\n",
            "2194874/2194874 - 45s - loss: 0.3366 - acc: 0.8532 - val_loss: 0.3174 - val_acc: 0.8898\n",
            "Epoch 11/15\n",
            "2194874/2194874 - 44s - loss: 0.3357 - acc: 0.8533 - val_loss: 0.2930 - val_acc: 0.8963\n",
            "Epoch 12/15\n",
            "2194874/2194874 - 44s - loss: 0.3345 - acc: 0.8535 - val_loss: 0.3244 - val_acc: 0.8891\n",
            "Epoch 13/15\n",
            "2194874/2194874 - 44s - loss: 0.3331 - acc: 0.8539 - val_loss: 0.3319 - val_acc: 0.8801\n",
            "Epoch 14/15\n",
            "2194874/2194874 - 44s - loss: 0.3323 - acc: 0.8542 - val_loss: 0.3084 - val_acc: 0.8928\n",
            "Epoch 15/15\n",
            "2194874/2194874 - 44s - loss: 0.3317 - acc: 0.8543 - val_loss: 0.2926 - val_acc: 0.9001\n"
          ],
          "name": "stdout"
        }
      ]
    },
    {
      "cell_type": "code",
      "metadata": {
        "id": "XKCc4xvhxJip",
        "colab_type": "code",
        "outputId": "308de318-faa5-4226-c5a2-d1431fd24171",
        "colab": {
          "base_uri": "https://localhost:8080/",
          "height": 295
        }
      },
      "source": [
        "plt.plot(h1.history['acc'])\n",
        "plt.plot(h1.history['val_acc'])\n",
        "plt.title('Model accuracy')\n",
        "plt.ylabel('Accuracy')\n",
        "plt.xlabel('Epoch')\n",
        "plt.legend(['Train M1', 'Test M1'], loc='upper left')\n",
        "plt.savefig('gdrive/My Drive/FlightDelayPrediction/ANNClassifierCharacteristics-V1.png')"
      ],
      "execution_count": 12,
      "outputs": [
        {
          "output_type": "display_data",
          "data": {
            "image/png": "[encoded data removed]",
            "text/plain": [
              "<Figure size 432x288 with 1 Axes>"
            ]
          },
          "metadata": {
            "tags": []
          }
        }
      ]
    },
    {
      "cell_type": "code",
      "metadata": {
        "id": "3IZ7BUNVwtF3",
        "colab_type": "code",
        "colab": {}
      },
      "source": [
        "y_pred = ann_classifier.predict_classes(X_test,batch_size=32)"
      ],
      "execution_count": 0,
      "outputs": []
    },
    {
      "cell_type": "code",
      "metadata": {
        "id": "c9ZjblUlw2Ti",
        "colab_type": "code",
        "outputId": "5fd0425b-3fc9-4f64-8f17-5e720e83b2e3",
        "colab": {
          "base_uri": "https://localhost:8080/",
          "height": 173
        }
      },
      "source": [
        "print(classification_report(y_test,y_pred))"
      ],
      "execution_count": 14,
      "outputs": [
        {
          "output_type": "stream",
          "text": [
            "              precision    recall  f1-score   support\n",
            "\n",
            "         0.0       0.94      0.93      0.94    365730\n",
            "         1.0       0.76      0.77      0.76     97049\n",
            "\n",
            "    accuracy                           0.90    462779\n",
            "   macro avg       0.85      0.85      0.85    462779\n",
            "weighted avg       0.90      0.90      0.90    462779\n",
            "\n"
          ],
          "name": "stdout"
        }
      ]
    },
    {
      "cell_type": "markdown",
      "metadata": {
        "id": "h3eMn-5e2NlC",
        "colab_type": "text"
      },
      "source": [
        ""
      ]
    }
  ]
}