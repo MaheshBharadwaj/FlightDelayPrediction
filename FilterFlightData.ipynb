{
  "nbformat": 4,
  "nbformat_minor": 0,
  "metadata": {
    "colab": {
      "name": "FilterFlightData.ipynb",
      "provenance": [],
      "collapsed_sections": []
    },
    "kernelspec": {
      "name": "python3",
      "display_name": "Python 3"
    }
  },
  "cells": [
    {
      "cell_type": "code",
      "metadata": {
        "id": "xMd8gs8aYIj5",
        "colab_type": "code",
        "outputId": "8f96cf21-0098-48c7-f68c-060af8fb32c9",
        "colab": {
          "base_uri": "https://localhost:8080/",
          "height": 34
        }
      },
      "source": [
        "import pandas as pd\n",
        "\n",
        "#Garbage Collector\n",
        "import gc\n",
        "\n",
        "\n",
        "from google.colab import drive\n",
        "\n",
        "drive.mount('/content/gdrive')\n"
      ],
      "execution_count": 0,
      "outputs": [
        {
          "output_type": "stream",
          "text": [
            "Drive already mounted at /content/gdrive; to attempt to forcibly remount, call drive.mount(\"/content/gdrive\", force_remount=True).\n"
          ],
          "name": "stdout"
        }
      ]
    },
    {
      "cell_type": "code",
      "metadata": {
        "id": "7J4mC6WJYWnZ",
        "colab_type": "code",
        "outputId": "5fa24633-1e18-4de6-fa12-d0cb422130e4",
        "colab": {
          "base_uri": "https://localhost:8080/",
          "height": 642
        }
      },
      "source": [
        "valid_airports = ('ATL','CLT','DEN','DFW','EWR','IAH','JFK','LAS','LAX','MCO','MIA','ORD','PHX','SEA','SFO')\n",
        "years = ['2016','2017']\n",
        "\n",
        "pathStr = 'gdrive/My Drive/FlightDelayPrediction/FlightData/'\n",
        "tempStr = 'On_Time_On_Time_Performance_'\n",
        "\n",
        "\n",
        "df = pd.DataFrame()\n",
        "\n",
        "for year in years:\n",
        "  for month in range(1,13):\n",
        "    filter = []\n",
        "    df = pd.read_csv(pathStr+year+'/'+year+'_'+str(month)+'/'+tempStr+year+'_'+str(month)+'.csv')\n",
        "    #print(pathStr+year+'/'+year+'_'+str(month)+'/'+tempStr+year+'_'+str(month)+'.csv')\n",
        "\n",
        "    \n",
        "    rows = df.shape[0]\n",
        "\n",
        "    for i in range(rows):\n",
        "        filter.append(df.loc[i]['Origin'] in valid_airports and df.loc[i]['Dest'] in valid_airports)\n",
        "      \n",
        "    filter_series=pd.Series(filter)\n",
        "\n",
        "    df.where(filter_series,inplace=True)\n",
        "    df.dropna(how='all',inplace=True)\n",
        "    df.to_csv(pathStr+year+'/'+str(month)+'.csv')\n",
        "    print(year+' month: '+str(df.shape[0]))\n",
        "    gc.collect()\n",
        "    df=pd.DataFrame()\n",
        "    gc.collect()\n",
        "\n",
        "\n",
        "\n"
      ],
      "execution_count": 8,
      "outputs": [
        {
          "output_type": "stream",
          "text": [
            "/usr/local/lib/python3.6/dist-packages/IPython/core/interactiveshell.py:2718: DtypeWarning: Columns (77) have mixed types. Specify dtype option on import or set low_memory=False.\n",
            "  interactivity=interactivity, compiler=compiler, result=result)\n"
          ],
          "name": "stderr"
        },
        {
          "output_type": "stream",
          "text": [
            "2016 month: 75010\n"
          ],
          "name": "stdout"
        },
        {
          "output_type": "stream",
          "text": [
            "/usr/local/lib/python3.6/dist-packages/IPython/core/interactiveshell.py:2718: DtypeWarning: Columns (77,84) have mixed types. Specify dtype option on import or set low_memory=False.\n",
            "  interactivity=interactivity, compiler=compiler, result=result)\n"
          ],
          "name": "stderr"
        },
        {
          "output_type": "stream",
          "text": [
            "2016 month: 70839\n"
          ],
          "name": "stdout"
        },
        {
          "output_type": "stream",
          "text": [
            "/usr/local/lib/python3.6/dist-packages/IPython/core/interactiveshell.py:2718: DtypeWarning: Columns (48,77,84) have mixed types. Specify dtype option on import or set low_memory=False.\n",
            "  interactivity=interactivity, compiler=compiler, result=result)\n"
          ],
          "name": "stderr"
        },
        {
          "output_type": "stream",
          "text": [
            "2016 month: 79942\n",
            "2016 month: 77855\n"
          ],
          "name": "stdout"
        },
        {
          "output_type": "stream",
          "text": [
            "/usr/local/lib/python3.6/dist-packages/IPython/core/interactiveshell.py:2718: DtypeWarning: Columns (48,77,84,85) have mixed types. Specify dtype option on import or set low_memory=False.\n",
            "  interactivity=interactivity, compiler=compiler, result=result)\n"
          ],
          "name": "stderr"
        },
        {
          "output_type": "stream",
          "text": [
            "2016 month: 81841\n",
            "2016 month: 82267\n",
            "2016 month: 85144\n",
            "2016 month: 85337\n",
            "2016 month: 77282\n",
            "2016 month: 80280\n"
          ],
          "name": "stdout"
        },
        {
          "output_type": "stream",
          "text": [
            "/usr/local/lib/python3.6/dist-packages/IPython/core/interactiveshell.py:2718: DtypeWarning: Columns (48,69,76,77,84) have mixed types. Specify dtype option on import or set low_memory=False.\n",
            "  interactivity=interactivity, compiler=compiler, result=result)\n"
          ],
          "name": "stderr"
        },
        {
          "output_type": "stream",
          "text": [
            "2016 month: 75558\n",
            "2016 month: 77464\n",
            "2017 month: 75063\n",
            "2017 month: 67710\n",
            "2017 month: 79191\n",
            "2017 month: 76143\n"
          ],
          "name": "stdout"
        },
        {
          "output_type": "stream",
          "text": [
            "/usr/local/lib/python3.6/dist-packages/IPython/core/interactiveshell.py:2718: DtypeWarning: Columns (48,77) have mixed types. Specify dtype option on import or set low_memory=False.\n",
            "  interactivity=interactivity, compiler=compiler, result=result)\n"
          ],
          "name": "stderr"
        },
        {
          "output_type": "stream",
          "text": [
            "2017 month: 80521\n",
            "2017 month: 80472\n",
            "2017 month: 82762\n",
            "2017 month: 83555\n",
            "2017 month: 74851\n",
            "2017 month: 78321\n",
            "2017 month: 73706\n",
            "2017 month: 76182\n"
          ],
          "name": "stdout"
        }
      ]
    },
    {
      "cell_type": "markdown",
      "metadata": {
        "id": "rnl_I25-ti2z",
        "colab_type": "text"
      },
      "source": [
        "\n"
      ]
    }
  ]
}