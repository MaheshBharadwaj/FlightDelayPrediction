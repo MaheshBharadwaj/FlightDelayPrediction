{
 "cells": [
  {
   "cell_type": "code",
   "execution_count": 1,
   "metadata": {},
   "outputs": [],
   "source": [
    "import numpy as np\n",
    "import pandas as pd\n",
    "import matplotlib\n",
    "import matplotlib.pyplot as plt\n",
    "import pickle\n"
   ]
  },
  {
   "cell_type": "code",
   "execution_count": 2,
   "metadata": {},
   "outputs": [],
   "source": [
    "from sklearn.model_selection import train_test_split \n",
    "from sklearn.metrics import classification_report\n",
    "from sklearn.metrics import * \n",
    "from sklearn.preprocessing import LabelEncoder"
   ]
  },
  {
   "cell_type": "code",
   "execution_count": 3,
   "metadata": {},
   "outputs": [],
   "source": [
    "def print_metrics(y_test,y_pred):\n",
    "    print('MSE: ',mean_squared_error(y_test,y_pred))\n",
    "    print()\n",
    "    print('RMSE: ',np.sqrt(mean_squared_error(y_test,y_pred)))\n",
    "    print()\n",
    "    print('MAE: ',mean_absolute_error(y_test,y_pred))\n",
    "    print()\n",
    "    print('R2 Score: ',r2_score(y_test,y_pred))"
   ]
  },
  {
   "cell_type": "code",
   "execution_count": 4,
   "metadata": {},
   "outputs": [],
   "source": [
    "pkl_file = open('./JoinedData.pkl','rb')\n",
    "df = pickle.load(pkl_file)\n",
    "pkl_file.close()\n"
   ]
  },
  {
   "cell_type": "code",
   "execution_count": 5,
   "metadata": {},
   "outputs": [],
   "source": [
    "le = LabelEncoder()\n",
    "\n",
    "df['Origin'] = le.fit_transform(df['Origin'])\n",
    "df['Dest'] = le.fit_transform(df['Dest'])"
   ]
  },
  {
   "cell_type": "code",
   "execution_count": 6,
   "metadata": {},
   "outputs": [],
   "source": [
    "df.dropna(how='any',inplace=True)\n",
    "df.drop(columns=['FlightDate','date','ArrTime','ArrDel15','CRSArrTime','NearestDepTime'],inplace=True)\n",
    "df = df[df['ArrDelayMinutes'] > 0]\n",
    "df = df.apply(pd.to_numeric)\n",
    "X = df.loc[:, df.columns != 'ArrDelayMinutes']\n",
    "y = df.loc[:, df.columns == 'ArrDelayMinutes']\n",
    "\n",
    "X_train,X_test,y_train,y_test = train_test_split(X,y,random_state=82,test_size=0.25)"
   ]
  },
  {
   "cell_type": "code",
   "execution_count": 7,
   "metadata": {},
   "outputs": [
    {
     "name": "stdout",
     "output_type": "stream",
     "text": [
      "(175071, 23)\n",
      "(175071, 1)\n"
     ]
    }
   ],
   "source": [
    "print(X_test.shape)\n",
    "print(y_test.shape)"
   ]
  },
  {
   "cell_type": "code",
   "execution_count": 8,
   "metadata": {},
   "outputs": [
    {
     "data": {
      "text/plain": [
       "Year               float64\n",
       "Quarter            float64\n",
       "Month              float64\n",
       "DayofMonth         float64\n",
       "Origin               int64\n",
       "Dest                 int64\n",
       "CRSDepTime         float64\n",
       "DepTime            float64\n",
       "DepDelayMinutes    float64\n",
       "totalSnow_cm       float64\n",
       "windspeedKmph        int64\n",
       "DewPointF            int64\n",
       "cloudcover           int64\n",
       "precipMM           float64\n",
       "pressure             int64\n",
       "WindGustKmph         int64\n",
       "visibility           int64\n",
       "weatherCode          int64\n",
       "tempF                int64\n",
       "WindChillF           int64\n",
       "winddirDegree        int64\n",
       "humidity             int64\n",
       "time                 int64\n",
       "dtype: object"
      ]
     },
     "execution_count": 8,
     "metadata": {},
     "output_type": "execute_result"
    }
   ],
   "source": [
    "X_train.dtypes"
   ]
  },
  {
   "cell_type": "markdown",
   "metadata": {},
   "source": [
    "# Linear Regression"
   ]
  },
  {
   "cell_type": "code",
   "execution_count": 9,
   "metadata": {},
   "outputs": [],
   "source": [
    "from sklearn.linear_model import LinearRegression \n",
    "from sklearn.metrics import r2_score"
   ]
  },
  {
   "cell_type": "code",
   "execution_count": 10,
   "metadata": {},
   "outputs": [],
   "source": [
    "lin_reg = LinearRegression(n_jobs=4,normalize=True)"
   ]
  },
  {
   "cell_type": "code",
   "execution_count": 11,
   "metadata": {},
   "outputs": [
    {
     "data": {
      "text/plain": [
       "LinearRegression(copy_X=True, fit_intercept=True, n_jobs=4, normalize=True)"
      ]
     },
     "execution_count": 11,
     "metadata": {},
     "output_type": "execute_result"
    }
   ],
   "source": [
    "lin_reg.fit(X_train,y_train)"
   ]
  },
  {
   "cell_type": "code",
   "execution_count": 12,
   "metadata": {},
   "outputs": [],
   "source": [
    "pickle.dump(lin_reg,open('./TrainedModels/LinearRegressor.pkl','wb'))"
   ]
  },
  {
   "cell_type": "code",
   "execution_count": 13,
   "metadata": {},
   "outputs": [],
   "source": [
    "y_pred = lin_reg.predict(X_test)"
   ]
  },
  {
   "cell_type": "code",
   "execution_count": 14,
   "metadata": {},
   "outputs": [
    {
     "name": "stdout",
     "output_type": "stream",
     "text": [
      "MSE:  270.23838637228585\n",
      "\n",
      "RMSE:  16.438928991034842\n",
      "\n",
      "MAE:  11.201399404478604\n",
      "\n",
      "R2 Score:  0.9263791120263317\n"
     ]
    }
   ],
   "source": [
    "print_metrics(y_test,y_pred)"
   ]
  },
  {
   "cell_type": "code",
   "execution_count": 15,
   "metadata": {},
   "outputs": [
    {
     "data": {
      "image/png": "[encoded data removed]",
      "text/plain": [
       "<Figure size 432x288 with 1 Axes>"
      ]
     },
     "metadata": {
      "needs_background": "light"
     },
     "output_type": "display_data"
    }
   ],
   "source": [
    "fig,ax1 = plt.subplots()\n",
    "ax1.scatter(y=y_pred[200:250],x=[i for i in range(50)],c='r',label='Predicted')\n",
    "ax1.scatter(y=y_test[200:250],x=[i for i in range(50)],c='g',label='Actual')\n",
    "ax1.legend(fontsize=12)\n",
    "ax1.set_ylabel('Delay In Minutes',fontsize=12)\n",
    "ax1.set_title('Linear Regressor',fontsize=18)\n",
    "plt.savefig('./Images/LinearRegressor.png')\n",
    "plt.show()"
   ]
  },
  {
   "cell_type": "markdown",
   "metadata": {},
   "source": [
    "# XGBoost Regressor"
   ]
  },
  {
   "cell_type": "code",
   "execution_count": 16,
   "metadata": {},
   "outputs": [],
   "source": [
    "import xgboost as xgb"
   ]
  },
  {
   "cell_type": "code",
   "execution_count": 17,
   "metadata": {},
   "outputs": [],
   "source": [
    "xg_reg = xgb.XGBRegressor(objective ='reg:linear', colsample_bytree = 0.9, num_parallel_tree=3,learning_rate = 0.1, max_depth = 4,alpha = 10, n_estimators = 100,random_state=42)\n"
   ]
  },
  {
   "cell_type": "code",
   "execution_count": 18,
   "metadata": {},
   "outputs": [
    {
     "name": "stdout",
     "output_type": "stream",
     "text": [
      "[20:03:25] WARNING: /home/conda/feedstock_root/build_artifacts/xgboost_1572314959925/work/src/objective/regression_obj.cu:152: reg:linear is now deprecated in favor of reg:squarederror.\n"
     ]
    },
    {
     "data": {
      "text/plain": [
       "XGBRegressor(alpha=10, base_score=0.5, booster='gbtree', colsample_bylevel=1,\n",
       "             colsample_bynode=1, colsample_bytree=0.9, gamma=0,\n",
       "             importance_type='gain', learning_rate=0.5, max_delta_step=0,\n",
       "             max_depth=4, min_child_weight=1, missing=None, n_estimators=10,\n",
       "             n_jobs=1, nthread=None, num_parallel_tree=3,\n",
       "             objective='reg:linear', random_state=42, reg_alpha=0, reg_lambda=1,\n",
       "             scale_pos_weight=1, seed=None, silent=None, subsample=1,\n",
       "             verbosity=1)"
      ]
     },
     "execution_count": 18,
     "metadata": {},
     "output_type": "execute_result"
    }
   ],
   "source": [
    "xg_reg.fit(X_train,y_train)"
   ]
  },
  {
   "cell_type": "code",
   "execution_count": 19,
   "metadata": {},
   "outputs": [],
   "source": [
    "pickle.dump(xg_reg,open('./TrainedModels/XGBoostRegressor.pkl','wb'))"
   ]
  },
  {
   "cell_type": "code",
   "execution_count": 20,
   "metadata": {},
   "outputs": [],
   "source": [
    "y_pred = xg_reg.predict(X_test)"
   ]
  },
  {
   "cell_type": "code",
   "execution_count": 21,
   "metadata": {},
   "outputs": [
    {
     "name": "stdout",
     "output_type": "stream",
     "text": [
      "MSE:  239.95234742291206\n",
      "\n",
      "RMSE:  15.490395328167454\n",
      "\n",
      "MAE:  10.525034427506638\n",
      "\n",
      "R2 Score:  0.9346299201760901\n"
     ]
    }
   ],
   "source": [
    "print_metrics(y_test,y_pred)"
   ]
  },
  {
   "cell_type": "code",
   "execution_count": 22,
   "metadata": {},
   "outputs": [
    {
     "data": {
      "image/png": "[encoded data removed]",
      "text/plain": [
       "<Figure size 432x288 with 1 Axes>"
      ]
     },
     "metadata": {
      "needs_background": "light"
     },
     "output_type": "display_data"
    }
   ],
   "source": [
    "fig,ax2 = plt.subplots()\n",
    "ax2.scatter(y=y_pred[200:250],x=[i for i in range(50)],c='r',label='Predicted')\n",
    "ax2.scatter(y=y_test[200:250],x=[i for i in range(50)],c='g',label='Actual')\n",
    "ax2.legend(fontsize=15)\n",
    "ax2.set_ylabel('Delay In Minutes',fontsize=12)\n",
    "ax2.set_title('XGBoost Regressor',fontsize=18)\n",
    "plt.savefig('./Images/XGBoostRegressor.png')\n",
    "plt.show()"
   ]
  },
  {
   "cell_type": "markdown",
   "metadata": {},
   "source": [
    "# Extra Tree Regressor"
   ]
  },
  {
   "cell_type": "code",
   "execution_count": 23,
   "metadata": {},
   "outputs": [],
   "source": [
    "from sklearn.ensemble import ExtraTreesRegressor"
   ]
  },
  {
   "cell_type": "code",
   "execution_count": 24,
   "metadata": {},
   "outputs": [],
   "source": [
    "et_reg = ExtraTreesRegressor(n_jobs=4,random_state=42)"
   ]
  },
  {
   "cell_type": "code",
   "execution_count": 25,
   "metadata": {},
   "outputs": [
    {
     "name": "stderr",
     "output_type": "stream",
     "text": [
      "/home/mahesh/miniconda3/envs/icell/lib/python3.7/site-packages/ipykernel_launcher.py:1: DataConversionWarning: A column-vector y was passed when a 1d array was expected. Please change the shape of y to (n_samples,), for example using ravel().\n",
      "  \"\"\"Entry point for launching an IPython kernel.\n"
     ]
    },
    {
     "data": {
      "text/plain": [
       "ExtraTreesRegressor(bootstrap=False, ccp_alpha=0.0, criterion='mse',\n",
       "                    max_depth=None, max_features='auto', max_leaf_nodes=None,\n",
       "                    max_samples=None, min_impurity_decrease=0.0,\n",
       "                    min_impurity_split=None, min_samples_leaf=1,\n",
       "                    min_samples_split=2, min_weight_fraction_leaf=0.0,\n",
       "                    n_estimators=100, n_jobs=4, oob_score=False,\n",
       "                    random_state=42, verbose=0, warm_start=False)"
      ]
     },
     "execution_count": 25,
     "metadata": {},
     "output_type": "execute_result"
    }
   ],
   "source": [
    "et_reg.fit(X_train,y_train)"
   ]
  },
  {
   "cell_type": "code",
   "execution_count": 26,
   "metadata": {},
   "outputs": [],
   "source": [
    "pickle.dump(et_reg,open('./TrainedModels/ExtraTreeRegressor.pkl','wb'))"
   ]
  },
  {
   "cell_type": "code",
   "execution_count": 27,
   "metadata": {},
   "outputs": [],
   "source": [
    "y_pred = et_reg.predict(X_test)"
   ]
  },
  {
   "cell_type": "code",
   "execution_count": 28,
   "metadata": {},
   "outputs": [
    {
     "name": "stdout",
     "output_type": "stream",
     "text": [
      "MSE:  229.83456613374008\n",
      "\n",
      "RMSE:  15.160295713927882\n",
      "\n",
      "MAE:  10.471493793946454\n",
      "\n",
      "R2 Score:  0.9373863015060394\n"
     ]
    }
   ],
   "source": [
    "print_metrics(y_test,y_pred)"
   ]
  },
  {
   "cell_type": "code",
   "execution_count": 29,
   "metadata": {},
   "outputs": [
    {
     "data": {
      "image/png": "[encoded data removed]",
      "text/plain": [
       "<Figure size 432x288 with 1 Axes>"
      ]
     },
     "metadata": {
      "needs_background": "light"
     },
     "output_type": "display_data"
    }
   ],
   "source": [
    "fig,ax3 = plt.subplots()\n",
    "ax3.scatter(y=y_pred[200:250],x=[i for i in range(50)],c='r',label='Predicted')\n",
    "ax3.scatter(y=y_test[200:250],x=[i for i in range(50)],c='g',label='Actual')\n",
    "ax3.legend(fontsize=15)\n",
    "ax3.set_ylabel('Delay In Minutes',fontsize=12)\n",
    "ax3.set_title('Linear Regressor',fontsize=18)\n",
    "plt.savefig('./Images/ExtraTreeRegressor.png')\n",
    "plt.show()"
   ]
  },
  {
   "cell_type": "code",
   "execution_count": null,
   "metadata": {},
   "outputs": [],
   "source": []
  }
 ],
 "metadata": {
  "kernelspec": {
   "display_name": "Python 3.7.6 64-bit",
   "language": "python",
   "name": "python37664bit9e154a0c1e604011a7def91e627778a1"
  },
  "language_info": {
   "codemirror_mode": {
    "name": "ipython",
    "version": 3
   },
   "file_extension": ".py",
   "mimetype": "text/x-python",
   "name": "python",
   "nbconvert_exporter": "python",
   "pygments_lexer": "ipython3",
   "version": "3.7.6"
  }
 },
 "nbformat": 4,
 "nbformat_minor": 2
}
